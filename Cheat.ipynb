{
  "cells": [
    {
      "cell_type": "markdown",
      "metadata": {
        "id": "view-in-github",
        "colab_type": "text"
      },
      "source": [
        "<a href=\"https://colab.research.google.com/github/Keks-Creeper/Keks-Creeper/blob/main/Cheat.ipynb\" target=\"_parent\"><img src=\"https://colab.research.google.com/assets/colab-badge.svg\" alt=\"Open In Colab\"/></a>"
      ]
    },
    {
      "cell_type": "code",
      "execution_count": null,
      "metadata": {
        "id": "ZQ9gvcTMpu_7",
        "colab": {
          "base_uri": "https://localhost:8080/"
        },
        "outputId": "98e0caf6-4c5a-4319-8532-230e0830c0c5"
      },
      "outputs": [
        {
          "output_type": "stream",
          "name": "stdout",
          "text": [
            "Collecting https://mcpi.codary.org\n",
            "  Downloading https://mcpi.codary.org (9.7 kB)\n",
            "  Preparing metadata (setup.py) ... \u001b[?25l\u001b[?25hdone\n",
            "Building wheels for collected packages: mcpi\n",
            "  Building wheel for mcpi (setup.py) ... \u001b[?25l\u001b[?25hdone\n",
            "  Created wheel for mcpi: filename=mcpi-1.2.0-py3-none-any.whl size=10028 sha256=90d0de27d842cdf300d1a2ee4da15557c06e46b98a06c717692816dee5c1f495\n",
            "  Stored in directory: /tmp/pip-ephem-wheel-cache-ohjqumu0/wheels/ec/df/13/cded0ac6b5f0e184af6a774fb4686b00088a9c352e8a7e3920\n",
            "Successfully built mcpi\n",
            "Installing collected packages: mcpi\n",
            "Successfully installed mcpi-1.2.0\n",
            "Collecting mojang\n",
            "  Downloading mojang-1.1.0-py3-none-any.whl.metadata (4.0 kB)\n",
            "Requirement already satisfied: requests<3,>=2.27.0 in /usr/local/lib/python3.11/dist-packages (from mojang) (2.32.3)\n",
            "Requirement already satisfied: charset-normalizer<4,>=2 in /usr/local/lib/python3.11/dist-packages (from requests<3,>=2.27.0->mojang) (3.4.1)\n",
            "Requirement already satisfied: idna<4,>=2.5 in /usr/local/lib/python3.11/dist-packages (from requests<3,>=2.27.0->mojang) (3.10)\n",
            "Requirement already satisfied: urllib3<3,>=1.21.1 in /usr/local/lib/python3.11/dist-packages (from requests<3,>=2.27.0->mojang) (2.3.0)\n",
            "Requirement already satisfied: certifi>=2017.4.17 in /usr/local/lib/python3.11/dist-packages (from requests<3,>=2.27.0->mojang) (2024.12.14)\n",
            "Downloading mojang-1.1.0-py3-none-any.whl (13 kB)\n",
            "Installing collected packages: mojang\n",
            "Successfully installed mojang-1.1.0\n",
            "Collecting pypng\n",
            "  Downloading pypng-0.20220715.0-py3-none-any.whl.metadata (13 kB)\n",
            "Downloading pypng-0.20220715.0-py3-none-any.whl (58 kB)\n",
            "\u001b[2K   \u001b[90m━━━━━━━━━━━━━━━━━━━━━━━━━━━━━━━━━━━━━━━━\u001b[0m \u001b[32m58.1/58.1 kB\u001b[0m \u001b[31m2.3 MB/s\u001b[0m eta \u001b[36m0:00:00\u001b[0m\n",
            "\u001b[?25hInstalling collected packages: pypng\n",
            "Successfully installed pypng-0.20220715.0\n",
            "Collecting pyqrcode\n",
            "  Downloading PyQRCode-1.2.1.zip (41 kB)\n",
            "\u001b[2K     \u001b[90m━━━━━━━━━━━━━━━━━━━━━━━━━━━━━━━━━━━━━━━━\u001b[0m \u001b[32m41.9/41.9 kB\u001b[0m \u001b[31m1.9 MB/s\u001b[0m eta \u001b[36m0:00:00\u001b[0m\n",
            "\u001b[?25h  Preparing metadata (setup.py) ... \u001b[?25l\u001b[?25hdone\n",
            "Building wheels for collected packages: pyqrcode\n",
            "  Building wheel for pyqrcode (setup.py) ... \u001b[?25l\u001b[?25hdone\n",
            "  Created wheel for pyqrcode: filename=PyQRCode-1.2.1-py3-none-any.whl size=36221 sha256=0d7f8fd9a5d025fdc898f7639d09196fb860ac025661a2e784850be8d63d8129\n",
            "  Stored in directory: /root/.cache/pip/wheels/f5/db/22/ade11e0c0854d1bb2fcc673dc90f6495ee2c0d2b6eb41492e3\n",
            "Successfully built pyqrcode\n",
            "Installing collected packages: pyqrcode\n",
            "Successfully installed pyqrcode-1.2.1\n"
          ]
        }
      ],
      "source": [
        "!pip install https://mcpi.codary.org\n",
        "!pip install mojang\n",
        "!pip install pypng\n",
        "!pip install pyqrcode"
      ]
    },
    {
      "cell_type": "code",
      "execution_count": null,
      "metadata": {
        "id": "9ahOZQe7pyVa",
        "colab": {
          "base_uri": "https://localhost:8080/"
        },
        "outputId": "e17d0321-d0b5-485f-ae4d-5b57e1dcee71"
      },
      "outputs": [
        {
          "output_type": "stream",
          "name": "stdout",
          "text": [
            "ERROR: hsv_to_rgb() nicht ausgeführt\n",
            "ERROR: constarin() nicht ausgeführt\n",
            "ERROR: rainbow() nicht ausgeführt\n",
            "ERROR: interpolate() nicht ausgeführt\n",
            "INFO: Codary-Server\n",
            "----------------------------------------------------------------------\n",
            "Fertig\n"
          ]
        }
      ],
      "source": [
        "import json\n",
        "import requests\n",
        "import time\n",
        "import random as r\n",
        "from math import *\n",
        "import colorsys\n",
        "import time\n",
        "import PIL\n",
        "import urllib\n",
        "import matplotlib.pyplot as plt\n",
        "import numpy as np\n",
        "from mojang import API\n",
        "from IPython.display import clear_output\n",
        "import pyqrcode\n",
        "import png\n",
        "import base64\n",
        "try: hsv_to_hex(0,0,0)\n",
        "except: print(\"ERROR: hsv_to_rgb() nicht ausgeführt\")\n",
        "try: co(1,1,1)\n",
        "except: print(\"ERROR: constarin() nicht ausgeführt\")\n",
        "try: rainbow(\"hi\",-1,0,1,255)\n",
        "except: print(\"ERROR: rainbow() nicht ausgeführt\")\n",
        "try: inpol(1, 1, 512, 5, 10)\n",
        "except: print(\"ERROR: interpolate() nicht ausgeführt\")\n",
        "nix,api = [0,API()]\n",
        "try:\n",
        "  from mcpi.minecraft import Minecraft\n",
        "except:\n",
        "  print(\"ERROR: Minecraft pip.install Befehl nicht ausgeführt\")\n",
        "  nix = 1\n",
        "if nix == 0:\n",
        "  nix = 0\n",
        "  try:\n",
        "    mc = Minecraft.create(\"mc5.codary.org\",4715)\n",
        "    myID = mc.getPlayerEntityId(\"Keks_Creeper\")\n",
        "    print(\"INFO: Codary-Server\")\n",
        "  except:\n",
        "    try:\n",
        "      mc = Minecraft.create(\"mc3.codary.org\",4713)\n",
        "      myID = mc.getPlayerEntityId(\"Keks_Creeper\")\n",
        "      print(\"INFO: 1. Ersatz-Server\")\n",
        "    except:\n",
        "      try:\n",
        "        mc = Minecraft.create(\"mp.codary.org\",4715)\n",
        "        myID = mc.getPlayerEntityId(\"Keks_Creeper\")\n",
        "        print(\"INFO: 2. Ersatz-Server\")\n",
        "      except:\n",
        "        try:\n",
        "          mc = Minecraft.create(\"mc2.codary.org\",4712)\n",
        "          myID = mc.getPlayerEntityId(\"Keks_Creeper\")\n",
        "          print(\"INFO: 3. Ersatz-Server\")\n",
        "        except:\n",
        "          nix = 1\n",
        "          print(\"ERROR: Falscher Server\")\n",
        "if nix == 0:\n",
        "  try:\n",
        "    myID = mc.getPlayerEntityId(\"Keks_Creeper\")\n",
        "    x,y,z = mc.entity.getTilePos(myID)\n",
        "    mc.postToChat(\"§b§l͔/͕ §fEs ist \"+str(time.localtime()[3]+2%24)+\":\"+str(time.localtime()[4])+\":\"+str(time.localtime()[5])+\"Uhr \"+str(time.localtime()[2]+1%24)+\".\"+str(time.localtime()[1])+\".\"+str(time.localtime()[0]))\n",
        "  except:\n",
        "    print(\"ERROR: Spieler konnte nicht gefunden werden\")\n",
        "print(\"-\"*70+\"\\nFertig\")"
      ]
    },
    {
      "cell_type": "code",
      "source": [
        "res = requests.get(\"https://storage-ext.penguinmod.com/get?key=sibrums\").text"
      ],
      "metadata": {
        "id": "ji9mnNBokDrL"
      },
      "execution_count": null,
      "outputs": []
    },
    {
      "cell_type": "code",
      "source": [
        "while True:\n",
        "  res = requests.get(\"https://storage-ext.penguinmod.com/get?key=sibrums\").text\n",
        "  i,f,w,h,U,res = res.split(res[0])\n",
        "  f,w,h,res,o,j,l=[float(f),int(w),int(h),res.replace(\" \",\"   \"),\"\",0,0]\n",
        "  while j < len(res):\n",
        "    i=res[j]\n",
        "    if i in \"0123456789\":\n",
        "      if not l: s=j;l=1\n",
        "    elif l: o+=(res[j:j+3]*(int(res[s:j])+2));l=0;j+=2\n",
        "    else: o+=i\n",
        "    j+=1\n",
        "  l=[];j=\"\";p=[]\n",
        "  for i in range(0,len(o),3):\n",
        "    s=i\n",
        "    while o[s-3]==\" \": s-=w*h*3\n",
        "    j += o[s-3:s]\n",
        "    if i/3%(w*h) == 0 and i!=0: l.append(j);j=\"\"\n",
        "  for i in l:\n",
        "    for j in range(0,len(i),3):\n",
        "      if (j/3)%w == 0: p.append(o);o=\"\"\n",
        "      s = hex(int(U.find(i[j+0])*255/(len(U)-1)))[2:];o += \"§#\"+\"0\"*(2-len(s))+s\n",
        "      s = hex(int(U.find(i[j+1])*255/(len(U)-1)))[2:];o += \"0\"*(2-len(s))+s\n",
        "      s = hex(int(U.find(i[j+2])*255/(len(U)-1)))[2:];o += \"0\"*(2-len(s))+s+\"█\"\n",
        "      #if (j/3)%w == w-1: #p.append(o)\n",
        "  for i,j in enumerate(p):\n",
        "    mc.postToChat(j[int(i/h)*9:])\n",
        "    if i%h == 0: time.sleep(f*4)"
      ],
      "metadata": {
        "id": "vQXmtGJuzENy"
      },
      "execution_count": null,
      "outputs": []
    },
    {
      "cell_type": "code",
      "source": [
        "re = res.split(res[0])\n",
        "im,nim,w = [re[int(re[4])+5],\"\",int(re[1])]\n",
        "for i in re[5:int(re[4])+5]:\n",
        "  for j in re[3]: im = im.replace(i[0]+j,j*int(i[1:]))\n",
        "for i in range(0,len(re[3]),4): im = im.replace(re[3][i+3],re[3][i:i+3])\n",
        "for i in range(len(im)):\n",
        "  if i%(w*3) == 0 and i!=0: nim += \"N\"\n",
        "  j = hex(round(re[2].find(im[i])/len(re[2])*256)).replace(\"0x\",\"\")\n",
        "  if re[2].find(im[i]) == -1: print(i)\n",
        "  if i%3 == 0: nim += \"§#\"\n",
        "  nim += \"0\"*(2-len(j))+j\n",
        "  if i%3 == 2: nim += \"█\"#█︱\n",
        "for i in nim.split(\"N\"): mc.postToChat(i)"
      ],
      "metadata": {
        "id": "2uBv3w-FeMHe"
      },
      "execution_count": null,
      "outputs": []
    },
    {
      "cell_type": "code",
      "source": [
        "w,o = [int(res[0]),\"\"]\n",
        "for i in range(2,len(res)):\n",
        "  if i%w==2:\n",
        "    mc.postToChat(o)\n",
        "    o = \"\"\n",
        "  j = res[i]\n",
        "  if j[6:] == \"00\": o+=\"§#000000..´.\"\n",
        "  else: o+=\"§#\"+j[:6]+\"█\""
      ],
      "metadata": {
        "id": "FUATdZBVwVX6"
      },
      "execution_count": null,
      "outputs": []
    },
    {
      "cell_type": "code",
      "source": [
        "from IPython.display import Audio\n",
        "import ipywidgets as widgets\n",
        "wn = Audio(\"XXX.wav\", autoplay=True)\n",
        "btn = widgets.Button(description='Widget')\n",
        "def button_eventhandler(obj):\n",
        "    display(wn)\n",
        "btn.on_click(button_eventhandler)\n",
        "display(btn)"
      ],
      "metadata": {
        "colab": {
          "base_uri": "https://localhost:8080/",
          "referenced_widgets": [
            "3b5dc9b80cd64c6889bbd6802ebe309a"
          ]
        },
        "id": "sqNHN7xJQ-VI",
        "outputId": "e3b29f89-8895-4d17-847c-48ca19523eb9"
      },
      "execution_count": null,
      "outputs": [
        {
          "output_type": "display_data",
          "data": {
            "text/plain": [
              "Button(description='Widget', style=ButtonStyle())"
            ],
            "application/vnd.jupyter.widget-view+json": {
              "version_major": 2,
              "version_minor": 0,
              "model_id": "3b5dc9b80cd64c6889bbd6802ebe309a"
            }
          },
          "metadata": {}
        }
      ]
    },
    {
      "cell_type": "code",
      "execution_count": null,
      "metadata": {
        "id": "DJouzIfGpxH6"
      },
      "outputs": [],
      "source": [
        "c = [[0,[125,125,125],\"1\"],[0,[126,107,65],\"2\"],[0,[134,96,67],\"3\"],[0,[127,127,127],\"4\"],[0,[162,130,78],\"5\"],[0,[85,85,85],\"7\"],[0,[143,140,125],\"14\"],[0,[136,130,127],\"15\"],[0,[116,116,116],\"16\"],[0,[109,85,50],\"17\"],[0,[195,192,74],\"19\"],[0,[99,110,132],\"21\"],[0,[30,67,140],\"22\"],[0,[145,145,145],\"23\"],[0,[216,203,155],\"24\"],[0,[88,58,40],\"25\"],[0,[233,236,236],\"35\"],[0,[246,208,61],\"41\"],[0,[220,220,220],\"42\"],[0,[150,97,83],\"45\"],[0,[117,94,59],\"47\"],[0,[15,10,24],\"49\"],[0,[125,142,141],\"56\"],[0,[98,237,228],\"57\"],[0,[128,102,63],\"58\"],[0,[91,91,91],\"61\"],[0,[133,107,107],\"73\"],[0,[249,254,254],\"80\"],[0,[160,166,179],\"82\"],[0,[90,52,32],\"84\"],[0,[195,114,24],\"86\"],[0,[97,38,38],\"87\"],[0,[81,62,50],\"88\"],[0,[171,131,84],\"89\"],[0,[214,152,52],\"91\"],[0,[122,121,122],\"98\"],[0,[114,146,30],\"103\"],[0,[113,87,71],\"110\"],[0,[48,24,28],\"112\"],[0,[74,73,74],\"118\"],[0,[219,222,158],\"121\"],[0,[95,54,30],\"123\"],[0,[117,136,124],\"129\"],[0,[42,203,87],\"133\"],[0,[148,20,0],\"152\"],[0,[117,65,62],\"153\"],[0,[235,229,222],\"155\"],[0,[122,121,121],\"158\"],[0,[209,178,161],\"159\"],[0,[103,96,86],\"162\"],[0,[156,212,144],\"165\"],[0,[99,156,151],\"168\"],[0,[172,199,190],\"169\"],[0,[166,136,38],\"170\"],[0,[152,94,67],\"172\"],[0,[16,15,15],\"173\"],[0,[141,180,250],\"174\"],[0,[186,99,29],\"179\"],[0,[169,125,169],\"201\"],[0,[171,129,171],\"202\"],[0,[218,224,162],\"206\"],[0,[142,63,31],\"213\"],[0,[114,2,2],\"214\"],[0,[69,7,9],\"215\"],[0,[229,225,207],\"216\"],[0,[70,68,68],\"218\"],[0,[188,212,202],\"235\"],[0,[154,147,91],\"236\"],[0,[208,100,191],\"237\"],[0,[94,164,208],\"238\"],[0,[162,197,55],\"240\"],[0,[235,154,181],\"241\"],[0,[83,90,93],\"242\"],[0,[144,166,167],\"243\"],[0,[52,118,125],\"244\"],[0,[109,48,152],\"245\"],[0,[47,64,139],\"246\"],[0,[119,106,85],\"247\"],[0,[117,142,67],\"248\"],[0,[181,59,53],\"249\"],[0,[207,213,214],\"251\"],[0,[88,74,90],\"255\"],[0,[168,90,50],\"5:4\"],[0,[136,136,136],\"1:5\"],[0,[216,215,210],\"17:2\"],[0,[192,175,121],\"5:2\"],[0,[8,10,15],\"251:15\"],[0,[67,30,32],\"250:15\"],[0,[37,22,16],\"159:15\"],[0,[20,21,25],\"35:15\"],[0,[44,46,143],\"251:11\"],[0,[74,59,91],\"159:11\"],[0,[53,57,157],\"35:11\"],[0,[96,59,31],\"251:12\"],[0,[77,51,35],\"159:12\"],[0,[114,71,40],\"25:12\"],[0,[231,226,218],\"155:1\"],[0,[183,96,27],\"179:1\"],[0,[216,202,155],\"24:1\"],[0,[119,118,119],\"98:3\"],[0,[119,85,59],\"3:1\"],[0,[118,117,118],\"98:2\"],[0,[21,119,136],\"251:9\"],[0,[86,91,91],\"159:9\"],[0,[21,137,145],\"35:9\"],[0,[60,46,26],\"162:1\"],[0,[66,43,20],\"5:5\"],[0,[51,91,75],\"168:2\"],[0,[188,188,188],\"1:3\"],[0,[149,103,85],\"1:1\"],[0,[54,57,61],\"251:7\"],[0,[57,42,35],\"159:7\"],[0,[62,68,71],\"35:7\"],[0,[73,91,36],\"251:13\"],[0,[76,83,42],\"159:13\"],[0,[84,109,27],\"35:13\"],[0,[85,67,25],\"17:3\"],[0,[160,115,80],\"5:3\"],[0,[35,137,198],\"251:3\"],[0,[113,108,137],\"159:3\"],[0,[58,175,217],\"35:3\"],[0,[125,125,115],\"251:8\"],[0,[135,106,97],\"159:8\"],[0,[142,142,134],\"35:8\"],[0,[94,168,24],\"251:5\"],[0,[103,117,52],\"159:5\"],[0,[112,185,25],\"35:5\"],[0,[169,48,159],\"251:2\"],[0,[149,88,108],\"159:2\"],[0,[189,68,179],\"35:2\"],[0,[115,121,105],\"98:1\"],[0,[224,97,0],\"215:1\"],[0,[161,83,37],\"159:1\"],[0,[240,118,19],\"35:1\"],[0,[213,101,142],\"251:6\"],[0,[161,78,78],\"159:6\"],[0,[237,141,172],\"35:6\"],[0,[122,87,57],\"3:2\"],[0,[132,134,133],\"1:6\"],[0,[192,193,194],\"1:4\"],[0,[154,106,89],\"1:2\"],[0,[99,171,158],\"168:1\"],[0,[100,31,156],\"251:10\"],[0,[118,70,86],\"159:10\"],[0,[121,42,172],\"35:10\"],[0,[160,39,34],\"35:14\"],[0,[143,61,46],\"159:14\"],[0,[58,37,16],\"17:1\"],[0,[114,84,48],\"5:1\"],[0,[171,181,70],\"19:1\"],[0,[240,175,21],\"251:4\"],[0,[186,133,35],\"159:4\"],[0,[248,197,39],\"35:4\"]]\n",
        "def hsv_to_hex(hue,sat,val):\n",
        "  hexx = \"\"\n",
        "  if len(hex(round(colorsys.hsv_to_rgb(hue/255,sat,val)[0])).split(\"x\")[1]) == 1: hexx = hexx + str(\"0\"+hex(round(colorsys.hsv_to_rgb(hue/255,sat,val)[0])).split(\"x\")[1])\n",
        "  else: hexx = hexx + str(hex(round(colorsys.hsv_to_rgb(hue/255,sat,val)[0])).split(\"x\")[1])\n",
        "  if len(hex(round(colorsys.hsv_to_rgb(hue/255,sat,val)[1])).split(\"x\")[1]) == 1: hexx = hexx + str(\"0\"+hex(round(colorsys.hsv_to_rgb(hue/255,sat,val)[1])).split(\"x\")[1])\n",
        "  else: hexx = hexx + str(hex(round(colorsys.hsv_to_rgb(hue/255,sat,val)[1])).split(\"x\")[1])\n",
        "  if len(hex(round(colorsys.hsv_to_rgb(hue/255,sat,val)[2])).split(\"x\")[1]) == 1: hexx = hexx + str(\"0\"+hex(round(colorsys.hsv_to_rgb(hue/255,sat,val)[2])).split(\"x\")[1])\n",
        "  else: hexx = hexx + str(hex(round(colorsys.hsv_to_rgb(hue/255,sat,val)[2])).split(\"x\")[1])\n",
        "  return hexx\n",
        "def rgb_to_hex(j):\n",
        "  hexx = \"\"\n",
        "  for i in j[:3]: hexx += \"0\"*(2-len(hex(i).replace(\"0x\",\"\")))+hex(i).replace(\"0x\",\"\")\n",
        "  return hexx\n",
        "def co(vall, min_val, max_val):\n",
        "    if vall < min_val: return min_val\n",
        "    if vall > max_val: return max_val\n",
        "    return vall\n",
        "def rainbow(t_text,t_from,t_to,t_hue,t_val):# t_from == -1: = auto\n",
        "  texttttt = \"\"\n",
        "  for i in range(len(t_text)):\n",
        "    if t_from == -1: texttttt = texttttt + \"§#\" +str(hsv_to_hex(round(i*255/len(t_text)),t_hue,t_val)) + t_text[i]\n",
        "    else: texttttt = texttttt + \"§#\" +str(hsv_to_hex(round(i*(t_to-t_from)/len(t_text)-1+t_from%255),t_hue,t_val)) + t_text[i]\n",
        "  return texttttt\n",
        "def inpol(value, leftMin, leftMax, rightMin, rightMax):\n",
        "    leftSpan = leftMax - leftMin\n",
        "    rightSpan = rightMax - rightMin\n",
        "    valueScaled = float(value - leftMin) / float(leftSpan)\n",
        "    return rightMin + (valueScaled * rightSpan)\n",
        "def mcvgt(liste,name,namee,farb,zeichen,delay,modn,plus):\n",
        "  mc.postToChat(\"§7§l\"+(\"-\"*namee)+\"§f§l \"+name+\" §7§l\"+(\"-\"*namee))\n",
        "  for n in range(len(liste)):\n",
        "    text = []\n",
        "    for m in range(len(liste[n])):\n",
        "      text.append(\"§#\"+str(hsv_to_hex(abs(liste[n][m])*farb,1,255))+zeichen+\"§r\")\n",
        "    mc.postToChat(textcc.get(n%modn==modn-1)+\"§l\"+(\"0\"*(co(4-len(str(n+1)),0,999)))+str(n+1)+\" §f\"+str(text).replace(\"\\\"\",\"\").replace(\"'\",\"\").replace(\" \",\"\").replace(\",\",\"\"))\n",
        "    time.sleep(delay)\n",
        "def zdlist(laen,brei,zeichen):\n",
        "  testliste = []\n",
        "  for lill in range(int(laen)):\n",
        "    testliste.append(list(str(zeichen)*int(brei)))\n",
        "  for lill in range(len(testliste)):\n",
        "    for jill in range(len(testliste[lill])):\n",
        "      testliste[lill][jill] = zeichen\n",
        "  return testliste\n",
        "def zl0(zvv,ldv,dwv):\n",
        "  if str(dwv)[0] == \"-\":\n",
        "    return \"-\"+str(zvv)*(co(ldv-1-len(str(dwv)[1:]),0,999))+str(dwv)[1:]\n",
        "  return str(zvv)*(co(ldv-len(str(dwv)),0,999))+str(dwv)\n",
        "def image(img,sw,sh,add,zeichen):\n",
        "  for i in range(sh):\n",
        "    o,ii = [\"\",co(round(i/sh*(len(img))),0,len(img)-1)]\n",
        "    for j in range(sw):\n",
        "      o,jj = [o+\"§#\",co(round(j/sw*(len(img[ii]))),0,len(img[ii])-1)]\n",
        "      if len(img[ii][jj]) == 4 and img[ii][jj][3] == 0: o += zeichen[1]\n",
        "      else:\n",
        "        for k in range(3): o += \"0\"*(2-len(hex(img[ii][jj][k]).replace(\"0x\",\"\")))+hex(img[ii][jj][k]).replace(\"0x\",\"\")\n",
        "        o += zeichen[0]\n",
        "    if str(i) in add: o += \"§r\"+add.get(str(i))\n",
        "    mc.postToChat(o)\n",
        "def colorblock(color):\n",
        "  for i in range(len(c)):\n",
        "    c[i][0] = 0\n",
        "    for j in range(3): exec(\"c[i][0]+=abs(c[i][1][j]-0x\"+color[j*2:2+j*2]+\")\")\n",
        "  c.sort()\n",
        "  return c\n",
        "def colorblockhex(color):\n",
        "  for i in range(len(c)):\n",
        "    c[i][0] = 0\n",
        "    for j in range(3): c[i][0] += abs(c[i][1][j]-color[j])\n",
        "    c.sort()\n",
        "  return c\n",
        "def toblock(v):\n",
        "  try:\n",
        "    for i in [\":\",\",\",\";\",\".\",\"|\",\"-\"]:\n",
        "      if len(v.split(i)) > 1: break\n",
        "    v = v.split(i)\n",
        "    if len(v) > 1: return (int(v[0]),int(v[1]))\n",
        "    else: return (int(v[0]),0)\n",
        "  except: return 0\n",
        "def square(p1,p2,p3,p4,img,u,v):\n",
        "  col,s,g = [{},ceil(sqrt(abs(p1[0]-p2[0])**2+abs(p1[1]-p2[1])**2+abs(p1[2]-p2[2])**2)),ceil(max([sqrt(abs(p1[0]-p3[0])**2+abs(p1[1]-p3[1])**2+abs(p1[2]-p3[2])**2),sqrt(abs(p2[0]-p4[0])**2+abs(p2[1]-p4[1])**2+abs(p2[2]-p4[2])**2)]))]\n",
        "  for i in range(s):\n",
        "    for j in range(g):\n",
        "      if not u: h = toblock(str(img))\n",
        "      else:\n",
        "        h = img[int(inpol(i,0,s,u[1],v[1]+1))][int(inpol(j,0,g,u[0],v[0]+1))]\n",
        "        if str(h) in col.keys(): h = col.get(str(h))\n",
        "        else:\n",
        "          if lllist(h,3,255) != 0: h = toblock(colorblock(rgb_to_hex(h))[0][2])\n",
        "          col[str(img[int(inpol(i,0,s,u[1],v[1]+1))][int(inpol(j,0,g,u[0],v[0]+1))])] = h\n",
        "      if not len(h) > 3: mc.setBlock(inpol(j,0,g,inpol(i,0,s,p1[0],p3[0]+1),inpol(i,0,s,p2[0],p4[0]+1)),inpol(j,0,g,inpol(i,0,s,p1[1],p3[1]+1),inpol(i,0,s,p2[1],p4[1]+1)),inpol(j,0,g,inpol(i,0,s,p1[2],p3[2]+1),inpol(i,0,s,p2[2],p4[2]+1)),h)\n",
        "def tryy(v):\n",
        "  U=True\n",
        "  try:exec(v)\n",
        "  except:U=False\n",
        "  return U\n",
        "def make(var,h,v):\n",
        "  if type(v) == list: exec(\"if \\\"\"+h+\"\\\" in \"+var+\": \"+var+\"[\\\"\"+h+\"\\\"] = \"+str(v)+\"\\nelse:\"+var+\".setdefault(\\\"\"+h+\"\\\",\"+str(v)+\")\")\n",
        "  else: exec(\"if \\\"\"+h+\"\\\" in \"+var+\": \"+var+\"[\\\"\"+h+\"\\\"] = \\\"\"+str(v)+\"\\\"\\nelse:\"+var+\".setdefault(\\\"\"+h+\"\\\",\\\"\"+str(v)+\"\\\")\")\n",
        "def iff(re,v1,v2):\n",
        "  if re: return v1\n",
        "  else: return v2\n",
        "def iif(re,v1,v2):\n",
        "  if re == v1: return v2\n",
        "  else: return re\n",
        "def lllist(v,h,o):\n",
        "  if h < len(v): return v[h]\n",
        "  else: return o\n",
        "def encodee(i): return base64.b64encode((i).encode(\"ascii\")).decode(\"ascii\")\n",
        "def decodee(i): return base64.b64decode((i).encode(\"ascii\")).decode(\"ascii\")"
      ]
    },
    {
      "cell_type": "code",
      "source": [
        "name,d = [\"Lanse_\",True]\n",
        "dimg = np.array(PIL.Image.open(urllib.request.urlopen(\"https://mineskin.eu/skin/\"+name)))\n",
        "x,y,z = mc.entity.getPos(myID)\n",
        "h,w,col = [len(dimg),len(dimg[0]),{}]\n",
        "for i in range(w):\n",
        "  for j in range(h):\n",
        "    l = list(dimg[i][j])[:3]; er=[]\n",
        "    if str(l) in col: tar,bid = col.get(str(l))\n",
        "    else: k,tar,bid = colorblock(rgb_to_hex(l))[0]; col[str(l)] = [tar,bid]\n",
        "    if 0<i<h-1 and 0<j<w-1 and d:\n",
        "      for k in range(3):\n",
        "        er=l[k]-tar[k]\n",
        "        dimg[i  ][j+1][k]=co(dimg[i  ][j+1][k]+er*.4375,0,255)# 7/16\n",
        "        dimg[i+1][j+1][k]=co(dimg[i+1][j+1][k]+er*.0625,0,255)# 1/16\n",
        "        dimg[i+1][j  ][k]=co(dimg[i+1][j  ][k]+er*.3125,0,255)# 5/16\n",
        "        dimg[i+1][j-1][k]=co(dimg[i+1][j-1][k]+er*.1875,0,255)# 3/16\n",
        "    bid += \":0\"; bid = bid.split(\":\")\n",
        "    #for k in range(3): er[k] = 127 - er[k]\n",
        "    #mc.postToChat(f\"§#{rgb_to_hex(tar)*2} §#{rgb_to_hex(l)*2} §#{rgb_to_hex(er)*2}\")#█\n",
        "    if list(dimg[i][j])[3] != 0:\n",
        "      mc.setBlock(x+i,y,z+j,int(bid[0]),int(bid[1]))"
      ],
      "metadata": {
        "id": "IfXTamEdnL1_"
      },
      "execution_count": null,
      "outputs": []
    },
    {
      "cell_type": "code",
      "source": [
        "l = \"3:2\"+\":0\"\n",
        "mc.setBlock(x,y,z,(1,2))"
      ],
      "metadata": {
        "id": "qOVjjG-hUJBd"
      },
      "execution_count": null,
      "outputs": []
    },
    {
      "cell_type": "code",
      "source": [
        "col = {\"s\":\"sss\",\"o\":\"pox\",\"ö\":\"ee\"}\n",
        "col[\"se\"] = [\"ööö\",\"üüü\"]\n",
        "i,j = col[\"se\"]\n",
        "i,j"
      ],
      "metadata": {
        "colab": {
          "base_uri": "https://localhost:8080/",
          "height": 35
        },
        "id": "_jC-GffwOv3O",
        "outputId": "918f6821-ef14-4d0e-94e1-ee1d3ed2d350"
      },
      "execution_count": null,
      "outputs": [
        {
          "output_type": "execute_result",
          "data": {
            "text/plain": [
              "'ööö'"
            ],
            "application/vnd.google.colaboratory.intrinsic+json": {
              "type": "string"
            }
          },
          "metadata": {},
          "execution_count": 42
        }
      ]
    },
    {
      "cell_type": "code",
      "source": [
        "l = []\n",
        "for i in range(255):\n",
        "  j,k = [hsv_to_hex(16*i,1,255),hsv_to_hex(16*i,1,255)]\n",
        "  exec(\"j,k = [int(0x\"+j+\"),int(0x\"+k+\")]\")\n",
        "  l.append(\"{Type:4,Trail:1b,Colors:[I;\"+str(j)+\"],FadeColors:[I;\"+str(k)+\"]}\")\n",
        "o = \"/give @p firework_rocket{Fireworks:{Explosions:\"+str(l).replace(\"'\",\"\").replace(\" \",\"\")+\"}} 1\"#Flight:1b,\n",
        "o"
      ],
      "metadata": {
        "colab": {
          "base_uri": "https://localhost:8080/",
          "height": 124
        },
        "id": "_Wp4zOtTblou",
        "outputId": "ca75b31f-189e-4d7b-eee8-025f02aa85bb"
      },
      "execution_count": null,
      "outputs": [
        {
          "output_type": "execute_result",
          "data": {
            "text/plain": [
              "'/give @p firework_rocket{Fireworks:{Explosions:[{Type:4,Trail:1b,Colors:[I;16711680],FadeColors:[I;16711680]},{Type:4,Trail:1b,Colors:[I;16736256],FadeColors:[I;16736256]},{Type:4,Trail:1b,Colors:[I;16760832],FadeColors:[I;16760832]},{Type:4,Trail:1b,Colors:[I;14614272],FadeColors:[I;14614272]},{Type:4,Trail:1b,Colors:[I;8322816],FadeColors:[I;8322816]},{Type:4,Trail:1b,Colors:[I;2031360],FadeColors:[I;2031360]},{Type:4,Trail:1b,Colors:[I;65346],FadeColors:[I;65346]},{Type:4,Trail:1b,Colors:[I;65442],FadeColors:[I;65442]},{Type:4,Trail:1b,Colors:[I;64767],FadeColors:[I;64767]},{Type:4,Trail:1b,Colors:[I;40191],FadeColors:[I;40191]},{Type:4,Trail:1b,Colors:[I;15615],FadeColors:[I;15615]},{Type:4,Trail:1b,Colors:[I;2359551],FadeColors:[I;2359551]},{Type:4,Trail:1b,Colors:[I;8651007],FadeColors:[I;8651007]},{Type:4,Trail:1b,Colors:[I;14942463],FadeColors:[I;14942463]},{Type:4,Trail:1b,Colors:[I;16711866],FadeColors:[I;16711866]},{Type:4,Trail:1b,Colors:[I;16711770],FadeColors:[I;16711770]},{Type:4,Trail:1b,Colors:[I;16713216],FadeColors:[I;16713216]},{Type:4,Trail:1b,Colors:[I;16737792],FadeColors:[I;16737792]},{Type:4,Trail:1b,Colors:[I;16762368],FadeColors:[I;16762368]},{Type:4,Trail:1b,Colors:[I;14221056],FadeColors:[I;14221056]},{Type:4,Trail:1b,Colors:[I;7929600],FadeColors:[I;7929600]},{Type:4,Trail:1b,Colors:[I;1638144],FadeColors:[I;1638144]},{Type:4,Trail:1b,Colors:[I;65352],FadeColors:[I;65352]},{Type:4,Trail:1b,Colors:[I;65448],FadeColors:[I;65448]},{Type:4,Trail:1b,Colors:[I;63231],FadeColors:[I;63231]},{Type:4,Trail:1b,Colors:[I;38655],FadeColors:[I;38655]},{Type:4,Trail:1b,Colors:[I;14079],FadeColors:[I;14079]},{Type:4,Trail:1b,Colors:[I;2752767],FadeColors:[I;2752767]},{Type:4,Trail:1b,Colors:[I;9044223],FadeColors:[I;9044223]},{Type:4,Trail:1b,Colors:[I;15335679],FadeColors:[I;15335679]},{Type:4,Trail:1b,Colors:[I;16711860],FadeColors:[I;16711860]},{Type:4,Trail:1b,Colors:[I;16711764],FadeColors:[I;16711764]},{Type:4,Trail:1b,Colors:[I;16714752],FadeColors:[I;16714752]},{Type:4,Trail:1b,Colors:[I;16739328],FadeColors:[I;16739328]},{Type:4,Trail:1b,Colors:[I;16763904],FadeColors:[I;16763904]},{Type:4,Trail:1b,Colors:[I;13827840],FadeColors:[I;13827840]},{Type:4,Trail:1b,Colors:[I;7536384],FadeColors:[I;7536384]},{Type:4,Trail:1b,Colors:[I;1244928],FadeColors:[I;1244928]},{Type:4,Trail:1b,Colors:[I;65358],FadeColors:[I;65358]},{Type:4,Trail:1b,Colors:[I;65454],FadeColors:[I;65454]},{Type:4,Trail:1b,Colors:[I;61695],FadeColors:[I;61695]},{Type:4,Trail:1b,Colors:[I;37119],FadeColors:[I;37119]},{Type:4,Trail:1b,Colors:[I;12543],FadeColors:[I;12543]},{Type:4,Trail:1b,Colors:[I;3145983],FadeColors:[I;3145983]},{Type:4,Trail:1b,Colors:[I;9437439],FadeColors:[I;9437439]},{Type:4,Trail:1b,Colors:[I;15728895],FadeColors:[I;15728895]},{Type:4,Trail:1b,Colors:[I;16711854],FadeColors:[I;16711854]},{Type:4,Trail:1b,Colors:[I;16711758],FadeColors:[I;16711758]},{Type:4,Trail:1b,Colors:[I;16716288],FadeColors:[I;16716288]},{Type:4,Trail:1b,Colors:[I;16740864],FadeColors:[I;16740864]},{Type:4,Trail:1b,Colors:[I;16765440],FadeColors:[I;16765440]},{Type:4,Trail:1b,Colors:[I;13434624],FadeColors:[I;13434624]},{Type:4,Trail:1b,Colors:[I;7143168],FadeColors:[I;7143168]},{Type:4,Trail:1b,Colors:[I;851712],FadeColors:[I;851712]},{Type:4,Trail:1b,Colors:[I;65364],FadeColors:[I;65364]},{Type:4,Trail:1b,Colors:[I;65460],FadeColors:[I;65460]},{Type:4,Trail:1b,Colors:[I;60159],FadeColors:[I;60159]},{Type:4,Trail:1b,Colors:[I;35583],FadeColors:[I;35583]},{Type:4,Trail:1b,Colors:[I;11007],FadeColors:[I;11007]},{Type:4,Trail:1b,Colors:[I;3539199],FadeColors:[I;3539199]},{Type:4,Trail:1b,Colors:[I;9830655],FadeColors:[I;9830655]},{Type:4,Trail:1b,Colors:[I;16122111],FadeColors:[I;16122111]},{Type:4,Trail:1b,Colors:[I;16711848],FadeColors:[I;16711848]},{Type:4,Trail:1b,Colors:[I;16711752],FadeColors:[I;16711752]},{Type:4,Trail:1b,Colors:[I;16717824],FadeColors:[I;16717824]},{Type:4,Trail:1b,Colors:[I;16742400],FadeColors:[I;16742400]},{Type:4,Trail:1b,Colors:[I;16766976],FadeColors:[I;16766976]},{Type:4,Trail:1b,Colors:[I;13041408],FadeColors:[I;13041408]},{Type:4,Trail:1b,Colors:[I;6749952],FadeColors:[I;6749952]},{Type:4,Trail:1b,Colors:[I;458496],FadeColors:[I;458496]},{Type:4,Trail:1b,Colors:[I;65370],FadeColors:[I;65370]},{Type:4,Trail:1b,Colors:[I;65466],FadeColors:[I;65466]},{Type:4,Trail:1b,Colors:[I;58623],FadeColors:[I;58623]},{Type:4,Trail:1b,Colors:[I;34047],FadeColors:[I;34047]},{Type:4,Trail:1b,Colors:[I;9471],FadeColors:[I;9471]},{Type:4,Trail:1b,Colors:[I;3932415],FadeColors:[I;3932415]},{Type:4,Trail:1b,Colors:[I;10223871],FadeColors:[I;10223871]},{Type:4,Trail:1b,Colors:[I;16515327],FadeColors:[I;16515327]},{Type:4,Trail:1b,Colors:[I;16711842],FadeColors:[I;16711842]},{Type:4,Trail:1b,Colors:[I;16711746],FadeColors:[I;16711746]},{Type:4,Trail:1b,Colors:[I;16719360],FadeColors:[I;16719360]},{Type:4,Trail:1b,Colors:[I;16743936],FadeColors:[I;16743936]},{Type:4,Trail:1b,Colors:[I;16768512],FadeColors:[I;16768512]},{Type:4,Trail:1b,Colors:[I;12648192],FadeColors:[I;12648192]},{Type:4,Trail:1b,Colors:[I;6356736],FadeColors:[I;6356736]},{Type:4,Trail:1b,Colors:[I;65280],FadeColors:[I;65280]},{Type:4,Trail:1b,Colors:[I;65376],FadeColors:[I;65376]},{Type:4,Trail:1b,Colors:[I;65472],FadeColors:[I;65472]},{Type:4,Trail:1b,Colors:[I;57087],FadeColors:[I;57087]},{Type:4,Trail:1b,Colors:[I;32511],FadeColors:[I;32511]},{Type:4,Trail:1b,Colors:[I;7935],FadeColors:[I;7935]},{Type:4,Trail:1b,Colors:[I;4325631],FadeColors:[I;4325631]},{Type:4,Trail:1b,Colors:[I;10617087],FadeColors:[I;10617087]},{Type:4,Trail:1b,Colors:[I;16711932],FadeColors:[I;16711932]},{Type:4,Trail:1b,Colors:[I;16711836],FadeColors:[I;16711836]},{Type:4,Trail:1b,Colors:[I;16711740],FadeColors:[I;16711740]},{Type:4,Trail:1b,Colors:[I;16720896],FadeColors:[I;16720896]},{Type:4,Trail:1b,Colors:[I;16745472],FadeColors:[I;16745472]},{Type:4,Trail:1b,Colors:[I;16770048],FadeColors:[I;16770048]},{Type:4,Trail:1b,Colors:[I;12254976],FadeColors:[I;12254976]},{Type:4,Trail:1b,Colors:[I;5963520],FadeColors:[I;5963520]},{Type:4,Trail:1b,Colors:[I;65286],FadeColors:[I;65286]},{Type:4,Trail:1b,Colors:[I;65382],FadeColors:[I;65382]},{Type:4,Trail:1b,Colors:[I;65478],FadeColors:[I;65478]},{Type:4,Trail:1b,Colors:[I;55551],FadeColors:[I;55551]},{Type:4,Trail:1b,Colors:[I;30975],FadeColors:[I;30975]},{Type:4,Trail:1b,Colors:[I;6399],FadeColors:[I;6399]},{Type:4,Trail:1b,Colors:[I;4718847],FadeColors:[I;4718847]},{Type:4,Trail:1b,Colors:[I;11010303],FadeColors:[I;11010303]},{Type:4,Trail:1b,Colors:[I;16711926],FadeColors:[I;16711926]},{Type:4,Trail:1b,Colors:[I;16711830],FadeColors:[I;16711830]},{Type:4,Trail:1b,Colors:[I;16711734],FadeColors:[I;16711734]},{Type:4,Trail:1b,Colors:[I;16722432],FadeColors:[I;16722432]},{Type:4,Trail:1b,Colors:[I;16747008],FadeColors:[I;16747008]},{Type:4,Trail:1b,Colors:[I;16771584],FadeColors:[I;16771584]},{Type:4,Trail:1b,Colors:[I;11861760],FadeColors:[I;11861760]},{Type:4,Trail:1b,Colors:[I;5570304],FadeColors:[I;5570304]},{Type:4,Trail:1b,Colors:[I;65292],FadeColors:[I;65292]},{Type:4,Trail:1b,Colors:[I;65388],FadeColors:[I;65388]},{Type:4,Trail:1b,Colors:[I;65484],FadeColors:[I;65484]},{Type:4,Trail:1b,Colors:[I;54015],FadeColors:[I;54015]},{Type:4,Trail:1b,Colors:[I;29439],FadeColors:[I;29439]},{Type:4,Trail:1b,Colors:[I;4863],FadeColors:[I;4863]},{Type:4,Trail:1b,Colors:[I;5112063],FadeColors:[I;5112063]},{Type:4,Trail:1b,Colors:[I;11403519],FadeColors:[I;11403519]},{Type:4,Trail:1b,Colors:[I;16711920],FadeColors:[I;16711920]},{Type:4,Trail:1b,Colors:[I;16711824],FadeColors:[I;16711824]},{Type:4,Trail:1b,Colors:[I;16711728],FadeColors:[I;16711728]},{Type:4,Trail:1b,Colors:[I;16723968],FadeColors:[I;16723968]},{Type:4,Trail:1b,Colors:[I;16748544],FadeColors:[I;16748544]},{Type:4,Trail:1b,Colors:[I;16773120],FadeColors:[I;16773120]},{Type:4,Trail:1b,Colors:[I;11468544],FadeColors:[I;11468544]},{Type:4,Trail:1b,Colors:[I;5177088],FadeColors:[I;5177088]},{Type:4,Trail:1b,Colors:[I;65298],FadeColors:[I;65298]},{Type:4,Trail:1b,Colors:[I;65394],FadeColors:[I;65394]},{Type:4,Trail:1b,Colors:[I;65490],FadeColors:[I;65490]},{Type:4,Trail:1b,Colors:[I;52479],FadeColors:[I;52479]},{Type:4,Trail:1b,Colors:[I;27903],FadeColors:[I;27903]},{Type:4,Trail:1b,Colors:[I;3327],FadeColors:[I;3327]},{Type:4,Trail:1b,Colors:[I;5505279],FadeColors:[I;5505279]},{Type:4,Trail:1b,Colors:[I;11796735],FadeColors:[I;11796735]},{Type:4,Trail:1b,Colors:[I;16711914],FadeColors:[I;16711914]},{Type:4,Trail:1b,Colors:[I;16711818],FadeColors:[I;16711818]},{Type:4,Trail:1b,Colors:[I;16711722],FadeColors:[I;16711722]},{Type:4,Trail:1b,Colors:[I;16725504],FadeColors:[I;16725504]},{Type:4,Trail:1b,Colors:[I;16750080],FadeColors:[I;16750080]},{Type:4,Trail:1b,Colors:[I;16774656],FadeColors:[I;16774656]},{Type:4,Trail:1b,Colors:[I;11075328],FadeColors:[I;11075328]},{Type:4,Trail:1b,Colors:[I;4783872],FadeColors:[I;4783872]},{Type:4,Trail:1b,Colors:[I;65304],FadeColors:[I;65304]},{Type:4,Trail:1b,Colors:[I;65400],FadeColors:[I;65400]},{Type:4,Trail:1b,Colors:[I;65496],FadeColors:[I;65496]},{Type:4,Trail:1b,Colors:[I;50943],FadeColors:[I;50943]},{Type:4,Trail:1b,Colors:[I;26367],FadeColors:[I;26367]},{Type:4,Trail:1b,Colors:[I;1791],FadeColors:[I;1791]},{Type:4,Trail:1b,Colors:[I;5898495],FadeColors:[I;5898495]},{Type:4,Trail:1b,Colors:[I;12189951],FadeColors:[I;12189951]},{Type:4,Trail:1b,Colors:[I;16711908],FadeColors:[I;16711908]},{Type:4,Trail:1b,Colors:[I;16711812],FadeColors:[I;16711812]},{Type:4,Trail:1b,Colors:[I;16711716],FadeColors:[I;16711716]},{Type:4,Trail:1b,Colors:[I;16727040],FadeColors:[I;16727040]},{Type:4,Trail:1b,Colors:[I;16751616],FadeColors:[I;16751616]},{Type:4,Trail:1b,Colors:[I;16776192],FadeColors:[I;16776192]},{Type:4,Trail:1b,Colors:[I;10682112],FadeColors:[I;10682112]},{Type:4,Trail:1b,Colors:[I;4390656],FadeColors:[I;4390656]},{Type:4,Trail:1b,Colors:[I;65310],FadeColors:[I;65310]},{Type:4,Trail:1b,Colors:[I;65406],FadeColors:[I;65406]},{Type:4,Trail:1b,Colors:[I;65502],FadeColors:[I;65502]},{Type:4,Trail:1b,Colors:[I;49407],FadeColors:[I;49407]},{Type:4,Trail:1b,Colors:[I;24831],FadeColors:[I;24831]},{Type:4,Trail:1b,Colors:[I;255],FadeColors:[I;255]},{Type:4,Trail:1b,Colors:[I;6291711],FadeColors:[I;6291711]},{Type:4,Trail:1b,Colors:[I;12583167],FadeColors:[I;12583167]},{Type:4,Trail:1b,Colors:[I;16711902],FadeColors:[I;16711902]},{Type:4,Trail:1b,Colors:[I;16711806],FadeColors:[I;16711806]},{Type:4,Trail:1b,Colors:[I;16711710],FadeColors:[I;16711710]},{Type:4,Trail:1b,Colors:[I;16728576],FadeColors:[I;16728576]},{Type:4,Trail:1b,Colors:[I;16753152],FadeColors:[I;16753152]},{Type:4,Trail:1b,Colors:[I;16580352],FadeColors:[I;16580352]},{Type:4,Trail:1b,Colors:[I;10288896],FadeColors:[I;10288896]},{Type:4,Trail:1b,Colors:[I;3997440],FadeColors:[I;3997440]},{Type:4,Trail:1b,Colors:[I;65316],FadeColors:[I;65316]},{Type:4,Trail:1b,Colors:[I;65412],FadeColors:[I;65412]},{Type:4,Trail:1b,Colors:[I;65508],FadeColors:[I;65508]},{Type:4,Trail:1b,Colors:[I;47871],FadeColors:[I;47871]},{Type:4,Trail:1b,Colors:[I;23295],FadeColors:[I;23295]},{Type:4,Trail:1b,Colors:[I;393471],FadeColors:[I;393471]},{Type:4,Trail:1b,Colors:[I;6684927],FadeColors:[I;6684927]},{Type:4,Trail:1b,Colors:[I;12976383],FadeColors:[I;12976383]},{Type:4,Trail:1b,Colors:[I;16711896],FadeColors:[I;16711896]},{Type:4,Trail:1b,Colors:[I;16711800],FadeColors:[I;16711800]},{Type:4,Trail:1b,Colors:[I;16711704],FadeColors:[I;16711704]},{Type:4,Trail:1b,Colors:[I;16730112],FadeColors:[I;16730112]},{Type:4,Trail:1b,Colors:[I;16754688],FadeColors:[I;16754688]},{Type:4,Trail:1b,Colors:[I;16187136],FadeColors:[I;16187136]},{Type:4,Trail:1b,Colors:[I;9895680],FadeColors:[I;9895680]},{Type:4,Trail:1b,Colors:[I;3604224],FadeColors:[I;3604224]},{Type:4,Trail:1b,Colors:[I;65322],FadeColors:[I;65322]},{Type:4,Trail:1b,Colors:[I;65418],FadeColors:[I;65418]},{Type:4,Trail:1b,Colors:[I;65514],FadeColors:[I;65514]},{Type:4,Trail:1b,Colors:[I;46335],FadeColors:[I;46335]},{Type:4,Trail:1b,Colors:[I;21759],FadeColors:[I;21759]},{Type:4,Trail:1b,Colors:[I;786687],FadeColors:[I;786687]},{Type:4,Trail:1b,Colors:[I;7078143],FadeColors:[I;7078143]},{Type:4,Trail:1b,Colors:[I;13369599],FadeColors:[I;13369599]},{Type:4,Trail:1b,Colors:[I;16711890],FadeColors:[I;16711890]},{Type:4,Trail:1b,Colors:[I;16711794],FadeColors:[I;16711794]},{Type:4,Trail:1b,Colors:[I;16711698],FadeColors:[I;16711698]},{Type:4,Trail:1b,Colors:[I;16731648],FadeColors:[I;16731648]},{Type:4,Trail:1b,Colors:[I;16756224],FadeColors:[I;16756224]},{Type:4,Trail:1b,Colors:[I;15793920],FadeColors:[I;15793920]},{Type:4,Trail:1b,Colors:[I;9502464],FadeColors:[I;9502464]},{Type:4,Trail:1b,Colors:[I;3211008],FadeColors:[I;3211008]},{Type:4,Trail:1b,Colors:[I;65328],FadeColors:[I;65328]},{Type:4,Trail:1b,Colors:[I;65424],FadeColors:[I;65424]},{Type:4,Trail:1b,Colors:[I;65520],FadeColors:[I;65520]},{Type:4,Trail:1b,Colors:[I;44799],FadeColors:[I;44799]},{Type:4,Trail:1b,Colors:[I;20223],FadeColors:[I;20223]},{Type:4,Trail:1b,Colors:[I;1179903],FadeColors:[I;1179903]},{Type:4,Trail:1b,Colors:[I;7471359],FadeColors:[I;7471359]},{Type:4,Trail:1b,Colors:[I;13762815],FadeColors:[I;13762815]},{Type:4,Trail:1b,Colors:[I;16711884],FadeColors:[I;16711884]},{Type:4,Trail:1b,Colors:[I;16711788],FadeColors:[I;16711788]},{Type:4,Trail:1b,Colors:[I;16711692],FadeColors:[I;16711692]},{Type:4,Trail:1b,Colors:[I;16733184],FadeColors:[I;16733184]},{Type:4,Trail:1b,Colors:[I;16757760],FadeColors:[I;16757760]},{Type:4,Trail:1b,Colors:[I;15400704],FadeColors:[I;15400704]},{Type:4,Trail:1b,Colors:[I;9109248],FadeColors:[I;9109248]},{Type:4,Trail:1b,Colors:[I;2817792],FadeColors:[I;2817792]},{Type:4,Trail:1b,Colors:[I;65334],FadeColors:[I;65334]},{Type:4,Trail:1b,Colors:[I;65430],FadeColors:[I;65430]},{Type:4,Trail:1b,Colors:[I;65526],FadeColors:[I;65526]},{Type:4,Trail:1b,Colors:[I;43263],FadeColors:[I;43263]},{Type:4,Trail:1b,Colors:[I;18687],FadeColors:[I;18687]},{Type:4,Trail:1b,Colors:[I;1573119],FadeColors:[I;1573119]},{Type:4,Trail:1b,Colors:[I;7864575],FadeColors:[I;7864575]},{Type:4,Trail:1b,Colors:[I;14156031],FadeColors:[I;14156031]},{Type:4,Trail:1b,Colors:[I;16711878],FadeColors:[I;16711878]},{Type:4,Trail:1b,Colors:[I;16711782],FadeColors:[I;16711782]},{Type:4,Trail:1b,Colors:[I;16711686],FadeColors:[I;16711686]},{Type:4,Trail:1b,Colors:[I;16734720],FadeColors:[I;16734720]},{Type:4,Trail:1b,Colors:[I;16759296],FadeColors:[I;16759296]},{Type:4,Trail:1b,Colors:[I;15007488],FadeColors:[I;15007488]},{Type:4,Trail:1b,Colors:[I;8716032],FadeColors:[I;8716032]},{Type:4,Trail:1b,Colors:[I;2424576],FadeColors:[I;2424576]},{Type:4,Trail:1b,Colors:[I;65340],FadeColors:[I;65340]},{Type:4,Trail:1b,Colors:[I;65436],FadeColors:[I;65436]},{Type:4,Trail:1b,Colors:[I;65532],FadeColors:[I;65532]},{Type:4,Trail:1b,Colors:[I;41727],FadeColors:[I;41727]},{Type:4,Trail:1b,Colors:[I;17151],FadeColors:[I;17151]},{Type:4,Trail:1b,Colors:[I;1966335],FadeColors:[I;1966335]},{Type:4,Trail:1b,Colors:[I;8257791],FadeColors:[I;8257791]},{Type:4,Trail:1b,Colors:[I;14549247],FadeColors:[I;14549247]},{Type:4,Trail:1b,Colors:[I;16711872],FadeColors:[I;16711872]},{Type:4,Trail:1b,Colors:[I;16711776],FadeColors:[I;16711776]}]}} 1'"
            ],
            "application/vnd.google.colaboratory.intrinsic+json": {
              "type": "string"
            }
          },
          "metadata": {},
          "execution_count": 84
        }
      ]
    },
    {
      "cell_type": "code",
      "execution_count": null,
      "metadata": {
        "id": "0AvCZk8Xlx_f"
      },
      "outputs": [],
      "source": [
        "server,port,ich,safe,getresp = [\"mc5.codary.org\",4715,\"Keks_Creeper\",False,True]\n",
        "try:\n",
        "  from mcpi.minecraft import Minecraft\n",
        "  mc = Minecraft.create(server,port)\n",
        "except:\n",
        "  print(\"Minecraft-PIP-INSTALL Befehl ausführen\")\n",
        "  !pip install https://mcpi.codary.org\n",
        "  from mcpi.minecraft import Minecraft\n",
        "  try: mc = Minecraft.create(server,port)\n",
        "  except: raise Exception(\"Falscher Server oder Port\")\n",
        "try: tryy(\"ich\")\n",
        "except: raise Exception(\"für 1 * d \\\"def()\\'s\\\" aus\")\n",
        "for i in range(100): mc.postToChat(\"\")\n",
        "mc.postToChat(\"§#cccc38§o§lVorbereitung...\")\n",
        "try: from mojang import API\n",
        "except:\n",
        "  mc.postToChat(iff(safe,\"\",\"§#cccc38Verbindung zur Mojang API herstellen...\"))\n",
        "  !pip install mojang\n",
        "  from mojang import API\n",
        "  mc.postToChat(iff(safe,\"\",\"§#cccc38DONE!\"))\n",
        "try: import png\n",
        "except:\n",
        "  mc.postToChat(iff(safe,\"\",\"§#cccc38PIP-INSTALL Befehl zur Bildbearbearbeitung...\"))\n",
        "  !pip install pypng\n",
        "  import png, PIL\n",
        "  import matplotlib.pyplot as plt\n",
        "  mc.postToChat(iff(safe,\"\",\"§#cccc38DONE!\"))\n",
        "try: import pyqrcode\n",
        "except:\n",
        "  mc.postToChat(iff(safe,\"\",\"§#cccc38PIP-INSTALL Befehl zurm QR-Code generieren...\"))\n",
        "  !pip install pyqrcode\n",
        "  import pyqrcode\n",
        "  mc.postToChat(iff(safe,\"\",\"§#cccc38DONE!\"))\n",
        "mc.postToChat(iff(safe,\"\",\"§#cccc38Weitere dinge Importieren...\"))\n",
        "import random as r\n",
        "from math import *\n",
        "import time, urllib, colorsys, time, requests, json\n",
        "import numpy as np\n",
        "from IPython.display import clear_output, Audio\n",
        "import ipywidgets as widgets\n",
        "mc.postToChat(iff(safe,\"\",\"§#cccc38DONE!\"))\n",
        "def posget(setpos):\n",
        "  if setpos:\n",
        "    if psy == psh: mc.postToChat(\"§dPos §#dd40dd\"+pl+\"§d wurde bei §cX\"+str(int(psx*100)/100)+\" §aY\"+str(int(psy*100)/100)+\" §9Z\"+str(int(psz*100)/100)+\"§d & auf den Boden gesetzt\")\n",
        "    elif psy < psh: mc.postToChat(\"§dPos §#dd40dd\"+pl+\"§d wurde bei §cX\"+str(int(psx*100)/100)+\" §aY\"+str(int(psy*100)/100)+\" §9Z\"+str(int(psz*100)/100)+\"§d & §b\"+str(abs(int((psy-psh)*100)/100))+\"§d unter den Boden gesetzt\")\n",
        "    else: mc.postToChat(\"§dPos §#dd40dd\"+pl+\"§d wurde bei §cX\"+str(int(psx*100)/100)+\" §aY\"+str(int(psy*100)/100)+\" §9Z\"+str(int(psz*100)/100)+\"§d & §b\"+str(abs(int((psy-psh)*100)/100))+\"§d über den Boden gesetzt\")\n",
        "  else:\n",
        "    try:\n",
        "      if pos.get(pl)[1] == pos.get(pl)[3]: mc.postToChat(\"§dPos §#dd40dd\"+pl+\"§d ist bei §cX\"+str(int(pos.get(pl)[0]*100)/100)+\" §aY\"+str(int(pos.get(pl)[1]*100)/100)+\" §9Z\"+str(int(pos.get(pl)[2]*100)/100)+\"§d & auf den Boden\")\n",
        "      elif pos.get(pl)[1] < pos.get(pl)[3]: mc.postToChat(\"§dPos §#dd40dd\"+pl+\"§d ist bei §cX\"+str(int(pos.get(pl)[0]*100)/100)+\" §aY\"+str(int(pos.get(pl)[1]*100)/100)+\" §9Z\"+str(int(pos.get(pl)[2]*100)/100)+\"§d & §b\"+str(abs(int((pos.get(pl)[1]-pos.get(pl)[3])*100)/100))+\"§d unter den Boden\")\n",
        "      else: mc.postToChat(\"§dPos §#dd40dd\"+pl+\"§d ist bei §cX\"+str(int(pos.get(pl)[0]*100)/100)+\" §aY\"+str(int(pos.get(pl)[1]*100)/100)+\" §9Z\"+str(int(pos.get(pl)[2]*100)/100)+\"§d & §b\"+str(abs(int((pos.get(pl)[1]-pos.get(pl)[3])*100)/100))+\"§d über den Boden\")\n",
        "    except: mc.postToChat(\"§cEs gibt kein Pos namens §#dd40dd\"+pl)\n",
        "def tkvl(h):\n",
        "  if h == 1: return str(spieler.keys()).replace(\"dict_keys([\",\"\").replace(\"])\",\"\").replace(\"'\",\"\").split(\", \")\n",
        "  else: return str(spieler.keys()).replace(\"dict_keys([\",\"\").replace(\"])\",\"\").replace(\"'\",\"\")\n",
        "t0,spieler,T,S,api,res,ip,peng,resp,safe = [time.time(),{},0,\"0123456789abcdefghijklmnopqrstuvwxyz\",API(),{},{},0,getresp,not safe]\n",
        "mc.postToChat(iff(safe,\"§#cccc38Versuchen Verbindung zu §n§ohttps://studio.penguinmod.com§#cccc38 herzustellen...\",\"\"))\n",
        "if getresp: res,ip,peng = [json.loads(requests.get(\"https://api.mcsrvstat.us/3/\"+server).text),json.loads(requests.get(\"https://freeipapi.com/api/json/\"+json.loads(requests.get(\"https://api.mcsrvstat.us/3/\"+server).text).get(\"ip\")).text),requests.get(\"https://storage-ext.penguinmod.com/get?key=sibrums\").text]\n",
        "if peng == \"\" and safe: mc.postToChat(\"  §cFailure\")\n",
        "elif safe: mc.postToChat(\"  §aSuccess!\")\n",
        "try: exec(\"pos.keys()\");mc.postToChat(\"§#cccc38Standart Variablen gefunden\")\n",
        "except: pos = {};mc.postToChat(\"§#cccc38Neue Standart Variablen erstellen\")\n",
        "if getresp and (res in [None,{}] or ip in [None,{}] or peng in [None,{}]):\n",
        "  resp = False\n",
        "  mc.postToChat(\"§c\"+ich+\"'s Internet spinnt. §5Cheat§c könnte Abschmieren\")\n",
        "try: myID = mc.getPlayerEntityId(ich)\n",
        "except:\n",
        "  mc.postToChat(\"§5Cheat§4er: \"+ich+\" ist gerade nicht auf den Server\")\n",
        "  mc.postToChat(\"§4Wozu macht §5Cheat§4 sinn wenn es kein §5Cheat§4er gibt^^ - §5Cheat§4 Wird Beendet\")\n",
        "  raise NameError\n",
        "if resp:\n",
        "  pl0 = res.get(\"players\").get(\"list\")\n",
        "  mc.postToChat(\"§bDu bist auf Server §#99ffff\"+server)\n",
        "  if safe: mc.postToChat(\"§3port:\"+str(res.get(\"port\"))+\" ip:\"+str(res.get(\"ip\"))+\" lat:\"+str(ip.get(\"latitude\"))+\" lon:\"+str(ip.get(\"longitude\"))+\" version:\"+res.get(\"software\")+res.get(\"version\"))\n",
        "  if type(pl0) != None and tryy(\"len(pl0)\"):\n",
        "    for i in pl0:\n",
        "      spieler[i.get(\"name\")]=[mc.getPlayerEntityId(i.get(\"name\")),i.get(\"uuid\")]\n",
        "      mc.postToChat(iff(i.get(\"name\")==ich,\"  §5Cheat§ber\",\"  §b\")+i.get(\"name\")+\" id:\"+str(mc.getPlayerEntityId(i.get(\"name\")))+iff(safe,\" uuid:\"+i.get(\"uuid\"),\"\"))\n",
        "  mc.postToChat(\"§bEs sind §#99ffff§l\"+str(len(pl0))+\"/\"+str(res.get(\"players\").get(\"max\"))+\"§b spieler Online\")\n",
        "mc.postToChat(\"§bStart hat \"+str(int((time.time()-t0)*10**5)/10**5)+\"sek. gedauert\")\n",
        "while True:\n",
        "  chet = mc.entity.pollChatPosts(myID)\n",
        "  if chet:\n",
        "    chat = (chet[0].message).split(\" \")\n",
        "    chat[0] = chat[0].lower()\n",
        "    if chat[0] in [\"%stop\",\"%!\",\"%break\",\"%end\",\"%beend\",\"%nope\"]: break\n",
        "    if chat[0] == \"%pos\":\n",
        "      poss = False\n",
        "      if len(chat) > 2:\n",
        "        if chat[2].lower() in [\"g\",\"get\"]:\n",
        "          pl = chat[1]\n",
        "          posget(False)\n",
        "        else: poss = True\n",
        "      else: poss = True\n",
        "      if poss:\n",
        "        if not len(chat) > 3:\n",
        "          psx,psy,psz = mc.entity.getPos(myID)\n",
        "          psh = mc.getHeight(psx,psz)\n",
        "        if len(chat) > 2:\n",
        "          if \"H\" in chat[2]: psy = psh\n",
        "        if len(chat) > 1: pl = chat[1]\n",
        "        else:\n",
        "          pl = S[r.randint(0,len(S)-1)]+S[r.randint(0,len(S)-1)]+S[r.randint(0,len(S)-1)]\n",
        "        make(\"pos\",pl,[psx,psy,psz,psh])\n",
        "        if len(chat) > 2:\n",
        "          if not (\".\" in chat[2]): posget(True)\n",
        "        else: posget(True)\n",
        "    if chat[0] == \"%tp\":\n",
        "      if len(chat) > 2:\n",
        "        if chat[2] in spieler.keys():\n",
        "          sx,sy,sz = mc.entity.getPos(spieler.get(chat[2])[0])\n",
        "          pl3 = \"Spieler:§#cc3acc\"+chat[2]\n",
        "        elif chat[2] in pos.keys():\n",
        "          sx,sy,sz,T = pos.get(chat[2])\n",
        "          pl3 = \"Pos:§#cc3acc\"+chat[2]\n",
        "        else:\n",
        "          pl3 = False\n",
        "          mc.postToChat(\"§cEs gibt keine Pos oder Spieler \"+chat[2])\n",
        "        if pl3 != False:\n",
        "          pl2,pl1 = [[],chat[1].replace(\"@a\",str(tkvl(0))).replace(\"@s\",ich).replace(\"@r\",tkvl(1)[r.randint(0,len(tkvl(1))-1)]).replace(\"[\",\"\").replace(\"]\",\"\").replace(\" \",\"\").split(\",\")]\n",
        "          for i in pl1:\n",
        "            if i in spieler.keys():\n",
        "              if not i in pl2: pl2.append(i)\n",
        "            else: mc.postToChat(\"§cSpieler \"+i+\" ist gerade nicht auf dem Server\")\n",
        "          if len(pl2) > 0: mc.postToChat(\"§#dd40dd\"+str(len(pl2))+\"§d Spieler §#dd40dd\"+str(pl2).replace(\"'\",\"\")+\"§d wurden zu §#ee4fee\"+pl3+\"§d (§cX§#dd4040\"+str(int(sx*100)/100)+\" §aY§#40dd40\"+str(int(sy*100)/100)+\" §9Z§#4040dd\"+str(int(sz*100)/100)+\"§d) Teleportiert\")\n",
        "          for i in pl2: mc.entity.setPos(spieler.get(i)[0],sx,sy,sz)\n",
        "    if chat[0] == \"%posinfo\":\n",
        "      for i in pos.keys():\n",
        "        if pos.get(i)[1] == pos.get(i)[3]: mc.postToChat(\"§dPos §#dd40dd\"+i+\"§d ist bei §cX\"+str(int(pos.get(i)[0]*100)/100)+\" §aY\"+str(int(pos.get(i)[1]*100)/100)+\" §9Z\"+str(int(pos.get(i)[2]*100)/100)+\"§d & auf den Boden\")\n",
        "        elif pos.get(i)[1] < pos.get(i)[3]: mc.postToChat(\"§dPos §#dd40dd\"+i+\"§d ist bei §cX\"+str(int(pos.get(i)[0]*100)/100)+\" §aY\"+str(int(pos.get(i)[1]*100)/100)+\" §9Z\"+str(int(pos.get(i)[2]*100)/100)+\"§d & §b\"+str(abs(int((pos.get(pl)[1]-pos.get(pl)[3])*100)/100))+\"§d unter den Boden\")\n",
        "        else: mc.postToChat(\"§dPos §#dd40dd\"+i+\"§d ist bei §cX\"+str(int(pos.get(i)[0]*100)/100)+\" §aY\"+str(int(pos.get(i)[1]*100)/100)+\" §9Z\"+str(int(pos.get(i)[2]*100)/100)+\"§d & §b\"+str(abs(int((pos.get(i)[1]-pos.get(i)[3])*100)/100))+\"§d über den Boden\")\n",
        "    #if chat[0] == \"%line\": #mc.setBlock(inpol(i,0,pl1,ssx[0],ssx[1]),inpol(i,0,pl1,ssy[0],ssy[1]),inpol(i,0,pl1,ssz[0],ssz[1]),bls[r.randint(0,len(bls)-1)])\n",
        "    if chat[0] in [\"%skin\",\"%skin.\"]:\n",
        "      if (tryy(\"int(chat[2])\") or len(chat) < 3) and (tryy(\"int(chat[3])\") or len(chat) < 4): image(np.array(PIL.Image.open(urllib.request.urlopen(\"https://mineskin.eu/\"+iff(\".\" in chat[0],\"armor/\",\"\")+\"body/\"+lllist(chat,1,ich)+\"/100.png\"))),int(lllist(chat,2,16)),int(lllist(chat,3,32)),{},[\"█\",\"000000..´.\"])\n",
        "      else: mc.postToChat(\"§4Es muss eine Zahl bei der Bildgröße sein\")\n",
        "    if chat[0] in [\"%head\",\"%head.\"]:\n",
        "      if (tryy(\"int(chat[2])\") or len(chat) < 3) and (tryy(\"int(chat[3])\") or len(chat) < 4): image(np.array(PIL.Image.open(urllib.request.urlopen(\"https://mineskin.eu/\"+iff(\".\" in chat[0],\"helm/\",\"avatar/\")+lllist(chat,1,ich)+\"/100.png\"))),int(lllist(chat,2,8)),int(lllist(chat,3,8)),{},[\"█\",\"000000..´.\"])\n",
        "      else: mc.postToChat(\"§4Es muss eine Zahl bei der Bildgröße sein\")\n",
        "    if chat[0] == \"%stats\":\n",
        "      i=lllist(chat,1,ich).replace(\"@s\",ich).replace(\"@r\",tkvl(1)[r.randint(0,len(tkvl(1))-1)])\n",
        "      if tryy(\"api.get_uuid(i)\"):\n",
        "        uuid,add=[api.get_uuid(i),{}]\n",
        "        profile=api.get_profile(uuid)\n",
        "        mc.postToChat(\"§dStats von: \"+profile.name)\n",
        "        if tryy(\"mc.getPlayerEntityId(i)\"):\n",
        "          id=mc.getPlayerEntityId(i)\n",
        "          x,y,z=mc.entity.getPos(id)\n",
        "          sx,sy,sz=mc.entity.getPos(myID)\n",
        "          mc.postToChat(\"§fPos  §cX\"+str(round(x*100)/100)+\" §aY\"+str(round((y+150)*100)/100)+\" §9Z\"+str(round(z*100)/100))\n",
        "          x,y,z=mc.entity.getDirection(id)\n",
        "          mc.postToChat(\"§fRot  §cX\"+str(round(x*100)/100)+\" §aY\"+str(round((y+150)*100)/100)+\" §9Z\"+str(round(z*100)/100))\n",
        "          if i != ich: mc.postToChat(\"§b\"+str(sqrt(pow(sx-x,2)+pow(sy-y,2)+pow(sz-z,2)))+\" Blöcke Entfernt\")\n",
        "        mc.postToChat(\"§9uuid:§#6666ff\"+uuid+\"  §#3434c0\"+iff(profile.is_legacy_profile,\"L\",\"N\")+iff(profile.skin_variant==\"slim\",\"s\",\"w\"))\n",
        "        if profile.cape_url:\n",
        "          img = np.array(PIL.Image.open(urllib.request.urlopen(profile.cape_url)))\n",
        "          for ii in range(1,17):\n",
        "            o=\"    \"\n",
        "            for j in range(12):\n",
        "              o+=\"§#\"\n",
        "              for k in range(3):\n",
        "                if len(hex(img[ii][j][k])) == 3: o += \"0\"+str(hex(img[ii][j][k])).replace(\"0x\",\"\")\n",
        "                else: o += str(hex(img[ii][j][k])).replace(\"0x\",\"\")\n",
        "              o+=\"█\"\n",
        "            make(\"add\",str(ii),o)\n",
        "        mc.postToChat(\"§lSKIN\"+\" \"*30+\"CAPE\")\n",
        "        image(np.array(PIL.Image.open(urllib.request.urlopen(\"https://mineskin.eu/armor/body/\"+i+\"/100.png\"))),16,32,iff(profile.cape_url,add,{\"0\":\"  §cHat kein Cape\"}),[\"█\",\"000000..´.\"])\n",
        "      else: mc.postToChat(\"§4Es gibt kein spieler \\\"\"+i+\"\\\" auf dem Planet (;\")\n",
        "    if chat[0] in [\"%?\",\"%help\",\"%hä?\",\"%hä\",\"%hää?\",\"%hää\",\"%huh\",\"%huh?\"]:\n",
        "      for i in help: mc.postToChat(i)\n",
        "    if chat[0] == \"%%debugvar\" and len(chat) > 1:\n",
        "      if tryy(\"mc.postToChat(\"+chat[1]+\")\"): tryy(\"\")\n",
        "      else: mc.postToChat(\"§4Variable \\\"\"+chat[1]+\"\\\" existiert nicht\")\n",
        "    if chat[0] == \"%%log\" and len(chat) > 1: print(chat[1])\n",
        "    if chat[0] == \"%color\":\n",
        "      color,o,k = [lllist(chat,1,\"\").replace(\"#\",\"\"),\"\",\"\"]\n",
        "      if color == \"\":\n",
        "        for i in range(3):\n",
        "          k = r.randint(0,255)\n",
        "          color += \"0\"*(2-len(hex(k).replace(\"0x\",\"\")))+hex(k).replace(\"0x\",\"\")\n",
        "      x,y,z = mc.entity.getPos(myID)\n",
        "      if len(color) == 6:\n",
        "        l = colorblock(color)\n",
        "        if len(l[0][2].split(\":\")) == 1: mc.setBlock(x,y,z,int(l[0][2].split(\":\")[0]))\n",
        "        else: mc.setBlock(x,y,z,int(l[0][2].split(\":\")[0]),int(l[0][2].split(\":\")[1]))\n",
        "        for i in range(3): o += \"0\"*(2-len(hex(l[0][1][i]).replace(\"0x\",\"\")))+hex(l[0][1][i]).replace(\"0x\",\"\")\n",
        "        mc.postToChat(\"§eDer passende Block \"+iff(type(k)!=str,color+\" \",\"\")+\"§#\"+color+\"█ §#\"+o+\"█§e hat die ID:§o\"+str(l[0][2]).replace(\":\",\",\")+\"§e & ungenauigkeit:§o\"+str(l[0][0]))\n",
        "      else: mc.postToChat(\"§cError\")\n",
        "    if chat[0] == \"%blockkopf\":\n",
        "      x,y,z = mc.entity.getTilePos(myID)\n",
        "      l,dreh = [np.array(PIL.Image.open(urllib.request.urlopen(\"https://mineskin.eu/skin/\"+lllist(chat,1,ich)))),int(lllist(chat,2,0))]\n",
        "      square([x,y+1,z],[x,y+1,z+8],[x+8,y+1,z],[x+8,y+1,z+8],l,[8,0],[15,7])\n",
        "      square([x,y-8,z],[x,y-8,z+8],[x+8,y-8,z],[x+8,y-8,z+8],l,[16,0],[23,7])\n",
        "      square([x,y,z+8],[x+8,y,z+8],[x,y-8,z+8],[x+8,y-8,z+8],l,[8,8],[15,15])\n",
        "      square([x,y,z-1],[x+8,y,z-1],[x,y-8,z-1],[x+8,y-8,z-1],l,[24,8],[31,15])\n",
        "      square([x-1,y,z+7],[x-1,y,z-1],[x-1,y-8,z+7],[x-1,y-8,z-1],l,[16,8],[23,15])\n",
        "      square([x+8,y,z],[x+8,y,z+8],[x+8,y-8,z],[x+8,y-8,z+8],l,[0,8],[7,15])\n",
        "    if chat[0] == \"%qr\":\n",
        "      pyqrcode.create(lllist(chat,1,\"complori.com\")).png(\"qr.png\", scale=1)\n",
        "      img = np.array(PIL.Image.open(\"qr.png\"))\n",
        "      for i in range(len(img)):\n",
        "        o = \"\"\n",
        "        for j in range(len(img[i])):\n",
        "          o += iff(img[i][j],\"§#ffffff█\",\"§#000000█\")\n",
        "        mc.postToChat(o)\n",
        "      mc.postToChat(\"§#cc9900§lTipp§#ddaa00: mach mal die Chathöhe auf 320px & Chatgröße auf 66%\")\n",
        "    if chat[0] in [\"%music\",\"%music.\"]:\n",
        "      music,i,add,l = [requests.get(\"https://api.codetabs.com/v1/proxy/?quest=https://open.spotify.com/intl-pt/track/\"+lllist(chat,1,\"4NsPgRYUdHu2Q5JRNgXYU5\").replace(\"https://open.spotify.com/intl-pt/track/\",\"\")).text,[\" \"]*8,{},[\"§eMusik: §#0000ff§n\",\"§eCover: §#0000ff§n\",\"\",\"§eLänge:§a\",\"§eErsteller*in: §a\",\"§eAlbum: §a\",\"§eViews: §a\",\"§eRelease: §a\"]]\n",
        "      try:\n",
        "        i[0] = music[music.find(\"<meta property=\\\"og:audio\\\" content=\")+35:]\n",
        "        i[0] = i[0][:i[0].find(\"/>\")-1]\n",
        "        i[1] = music[music.find(\"<meta name=\\\"twitter:image\\\" content=\")+36:]\n",
        "        i[1] = i[1][:i[1].find(\"/>\")-1]\n",
        "        i[3] = music[music.find(\"<meta name=\\\"music:duration\\\" content=\")+37:]\n",
        "        i[3] = int(i[3][:i[3].find(\"/>\")-1])\n",
        "        i[3] = str(floor(i[3]/60))+\":\"+(\"0\"*(2-len(str(i[3]%60))))+str(i[3]%60)\n",
        "        i[4] = music[music.find(\"<meta property=\\\"og:description\\\" content=\")+41:]\n",
        "        i[5] = i[4][i[4].find(\"Â\")+3:i[4].find(\"/>\")-1]\n",
        "        i[5] = i[5][:i[5].find(\"Â\")-1]\n",
        "        i[4] = i[4][:i[4].find(\"Â\")-1]\n",
        "        i[6] = music[music.find(i[5]+\"</span><span class=\\\"encore-text encore-text-marginal\"):]\n",
        "        i[6] = i[6][i[6].find(\"\\\">\")+2:]\n",
        "        i[6] = i[6][:i[6].find(\"<\")].replace(\",\",\".\")\n",
        "        i[7] = music[music.find(\"<meta name=\\\"music:release_date\\\" content=\")+41:]\n",
        "        i[7] = i[7][:i[7].find(\"/>\")-1].split(\"-\")\n",
        "        i[7] = i[7][2]+\".\"+i[7][1]+\".\"+i[7][0]\n",
        "        for j in range(len(i)): add[str(j+2)] = \"    \"+l[j]+iff(i[j]==\"\",\"???\",i[j])\n",
        "        image(np.array(PIL.Image.open(urllib.request.urlopen(i[1]))),int(lllist(chat,2,iff(\".\"in chat[0],215,24))),int(lllist(chat,3,24)),add,[iff(\".\"in chat[0],\"︱\",\"█\"),\"000000..´.\"])\n",
        "      except: mc.postToChat(\"§4ERROR mit \"+lllist(chat,1,\"4NsPgRYUdHu2Q5JRNgXYU5\")+\" stimmt was nicht\")\n",
        "    if chat[0] in [\"%playlist\",\"%playlist.\"]:\n",
        "      music,i,add,k,o,ii = [requests.get(\"https://api.codetabs.com/v1/proxy/?quest=https://open.spotify.com/playlist/\"+lllist(chat,1,\"3gdLXsT19xltISsASxWJrz\").replace(\"https://open.spotify.com/playlist/\",\"\")).text,[\"\"]*9,{},0,\"\",7]\n",
        "      try:\n",
        "        i[0] = music[music.find(\"<meta name=\\\"description\\\" content=\")+len(s)+10:]\n",
        "        i[0] = i[0][:i[0].find(\"\\\"/>\")]\n",
        "        exec(\"i[0]=\\\"\"+i[0].replace(\"\\\\\\\\u\",\"\\\\u\").replace(\"\\\"\",\"\\\\\\\"\")+\"\\\"\")\n",
        "        i[0] = i[0][i[0].find(\"description\")+25:]\n",
        "        for j in range(2,-1,-1): i[j] = i[0].split(\"Â·\")[j]\n",
        "        for j in range(2,-1,-1): i[j] = i[j][iff(i[j][0]==\" \",1,0):]\n",
        "        for j in range(2,-1,-1): i[j] = i[j][:iff(i[j][len(i[j])-1]==\" \",len(i[j])-1,None)]\n",
        "        for j in i: mc.postToChat(j)\n",
        "        i[3] = music[:music.find(\"</span></div><div class=\\\"encore-text encore-text-body-small \")]\n",
        "        for j in range(2): i[3] = i[3][i[3].find(\"data-encore-id=\\\"text\\\">\")+22:]\n",
        "        i[3] = i[3].replace(\"&amp;\",\"&\").split(\" \")\n",
        "        for j in i: mc.postToChat(j)\n",
        "        i[4] = music[music.find(\"href=\\\"/user/\")+12:]\n",
        "        i[5] = i[4][:i[4].find(\">\")-1]\n",
        "        i[4] = i[4][:i[4].find(\"<\")]\n",
        "        i[4] = i[4][i[4].find(\">\")+1:]\n",
        "        i[6] = music[music.find(\"https://image-cdn-ak.spotifycdn.com/image/\"):]\n",
        "        i[6] = i[6][:i[6].find(\">\")-2]\n",
        "        for j in i: mc.postToChat(j)\n",
        "        image(np.array(PIL.Image.open(urllib.request.urlopen(i[6]))),int(lllist(chat,2,iff(\".\"in chat[0],215,24))),int(lllist(chat,3,24)),add,[iff(\".\"in chat[0],\"︱\",\"█\"),\"000000..´.\"])\n",
        "      except:\n",
        "        try:\n",
        "          i[0] = music[music.find(s+\"\\\",\\\"name\\\"\")+len(s)+10:]\n",
        "          i[0] = i[0][:i[0].find(\"\\\"datePublished\\\":\")-2]\n",
        "          exec(\"i[0]=\\\"\"+i[0].replace(\"\\\\\\\\u\",\"\\\\u\").replace(\"\\\"\",\"\\\\\\\"\")+\"\\\"\")\n",
        "          i[0] = i[0][i[0].find(\"description\")+25:]\n",
        "          for j in range(2,-1,-1): i[j] = i[0].split(\"·\")[j]#Â\n",
        "          for j in range(2,-1,-1): i[j] = i[j][iff(i[j][0]==\" \",1,0):]\n",
        "          for j in range(2,-1,-1): i[j] = i[j][:iff(i[j][len(i[j])-1]==\" \",len(i[j])-1,None)]\n",
        "          for j in i: mc.postToChat(j)\n",
        "          i[3] = music[:music.find(\"</span></div><div class=\\\"encore-text encore-text-body-small \")]\n",
        "          for j in range(2): i[3] = i[3][i[3].find(\"data-encore-id=\\\"text\\\">\")+22:]\n",
        "          i[3] = i[3].replace(\"&amp;\",\"&\").split(\" \")\n",
        "          for j in i: mc.postToChat(j)\n",
        "          i[4] = music[music.find(\"href=\\\"/user/\")+12:]\n",
        "          i[5] = i[4][:i[4].find(\">\")-1]\n",
        "          i[4] = i[4][:i[4].find(\"<\")]\n",
        "          i[4] = i[4][i[4].find(\">\")+1:]\n",
        "          i[6] = music[music.find(\"https://image-cdn-ak.spotifycdn.com/image/\"):]\n",
        "          i[6] = i[6][:i[6].find(\">\")-2]\n",
        "          for j in i: mc.postToChat(j)\n",
        "          image(np.array(PIL.Image.open(urllib.request.urlopen(i[6]))),int(lllist(chat,2,iff(\".\"in chat[0],215,24))),int(lllist(chat,3,24)),add,[iff(\".\"in chat[0],\"︱\",\"█\"),\"000000..´.\"])\n",
        "        except: mc.postToChat(\"§4ERROR mit \"+lllist(chat,1,\"3gdLXsT19xltISsASxWJrz\")+\" stimmt was nicht\")\n",
        "\n",
        "mc.postToChat(\"§#dd4040Beendet\")"
      ]
    },
    {
      "cell_type": "code",
      "source": [
        "def base(l,b1,b2):\n",
        "  j = 0\n",
        "  for i in range(len(l)):\n",
        "    j += b1.find(l[len(l)-1-i])*(len(b1)**i)\n",
        "  l = \"\"\n",
        "  while j > 0:\n",
        "    l = b2[j%len(b2)]+l\n",
        "    j = int(j/len(b2))\n",
        "  return l"
      ],
      "metadata": {
        "id": "Fb5kfFu4ZWPS"
      },
      "execution_count": null,
      "outputs": []
    },
    {
      "cell_type": "code",
      "source": [
        "res = requests.get(\"https://storage-ext.penguinmod.com/get?key=sibrums\").text"
      ],
      "metadata": {
        "id": "FXpeWEhR0BpV",
        "collapsed": true
      },
      "execution_count": null,
      "outputs": []
    },
    {
      "cell_type": "code",
      "source": [
        "rel = res.split(res[0])\n",
        "tr,hq,hxn,strl = list(\"0\"*(4-len(base(rel[1][0],\"0123456789abcdef\",\"01\")))+base(rel[1][0],\"0123456789abcdef\",\"01\"))\n",
        "tr,hq,hxn,strl,rel[3],rel[1] = [int(tr)*2,int(hq),int(hxn),int(strl)+1,int(rel[3]),rel[1][1:]]\n",
        "if hxn:\n",
        "  i,l,j,hxn = [0,\"0123456789abcdef\",\"\",[]]\n",
        "  while i < len(rel[4]):\n",
        "    j = base(rel[4][i:i+8],l+rel[1]+rel[2],\"xX\"+l); i += 8\n",
        "    if hq: hxn += j[:6],j[6:]\n",
        "    else: hxn += j[:3],j[3:6],j[6:9],j[9:]\n",
        "else:\n",
        "  i,hxn = [0,[]]\n",
        "  while i < len(rel[4]): hxn += [rel[4][i:i+((hq+1)*3+tr)]]; i += (hq+1)*3+tr\n",
        "i,l,j,o = [0,rel[5],\"\",\"\"]\n",
        "while i+1 < len(l):\n",
        "  if l[i] in rel[1]: j += l[i]\n",
        "  elif j != \"\":\n",
        "    for k,n in enumerate(rel[1]): j=j.replace(n,str(k))\n",
        "    o+=(int(j)+1)*l[i:i+strl]\n",
        "    j = \"\"\n",
        "  else: o+=l[i]\n",
        "  i+=1\n",
        "#i = 0\n",
        "#while i < len(o):\n",
        "#  print(o[i:i+rel[3]])\n",
        "#  i+=rel[3]\n",
        "#if strl-1:\n",
        "#  o = o.replace()\n",
        "rel[2]"
      ],
      "metadata": {
        "colab": {
          "base_uri": "https://localhost:8080/"
        },
        "id": "frDIxZg0bLSp",
        "outputId": "227b2bd6-998b-4c7a-e3e2-51531c129cc4"
      },
      "execution_count": null,
      "outputs": [
        {
          "output_type": "execute_result",
          "data": {
            "text/plain": [
              "'nQ wKx-ECmDhFo_HgM\\'N\".RijLPGJpOIk/lY(SrstU)TV=WZX{!$%[~@]|+`}<#>*'"
            ],
            "application/vnd.google.colaboratory.intrinsic+json": {
              "type": "string"
            }
          },
          "metadata": {},
          "execution_count": 214
        }
      ]
    },
    {
      "cell_type": "code",
      "source": [
        "name = \"Keks_Creeper\"\n",
        "x,y,z = mc.entity.getPos(mc.getPlayerEntityId(name))\n",
        "l = np.array(PIL.Image.open(urllib.request.urlopen(api.get_profile(api.get_uuid(name)).skin_url)))\n",
        "square([x,y,z],[x,y+8,z],[x,y,z+8],[x,y+8,z+8],l,[0,8],[7,15])"
      ],
      "metadata": {
        "id": "3lnLKsYEB5Yr"
      },
      "execution_count": null,
      "outputs": []
    },
    {
      "cell_type": "code",
      "source": [
        "myID = mc.getPlayerEntityId(name)\n",
        "x,y,z = mc.entity.getPos(myID)\n",
        "p1 = [0,1,0]\n",
        "p2 = [1,0,0]\n",
        "uv = [0,0,63,63]\n",
        "s = 64\n",
        "col,last,colh = [{},\"\",\"\"]\n",
        "t = time.time()\n",
        "for i in range(s):\n",
        "  for j in range(s):\n",
        "    colo = list(l[int(inpol(i,0,s,uv[0],uv[2]+1))][int(inpol(j,0,s,uv[1],uv[3]+1))])\n",
        "    if colo != last:\n",
        "      colh = rgb_to_hex(colo); block = col.get(colh); last = colo\n",
        "      if not block:\n",
        "        block = (colorblock(colh)[0][2]+\":0\").split(\":\")[:2]\n",
        "        col[colh] = block\n",
        "    for k in range(len(block)): block[k] = int(block[k])\n",
        "    mc.setBlock(x+(i*p1[0])+(j*p2[0]),y+(i*p1[1])+(j*p2[1]),z+(i*p1[2])+(j*p2[2]),block)\n",
        "mc.postToChat(time.time()-t)"
      ],
      "metadata": {
        "id": "fS_i8I8mIUbi"
      },
      "execution_count": null,
      "outputs": []
    },
    {
      "cell_type": "code",
      "source": [
        "def SCHEISSE():\n",
        "\n",
        "  rel,i[7] = [music,[]]\n",
        "  for j in range(30):\n",
        "    l = rel[rel.find(\"https://open.spotify.com/track/\"):]\n",
        "    l,rel = [l[:l.find(\">\")-2],rel.replace(\"https://open.spotify.com/track/\",\"\",1)]\n",
        "  i[7].append(l)\n",
        "  i[8] = music[music.find(\"draggable=\\\"false\\\" loading=\\\"lazy\\\" src=\\\"\")+38:]\n",
        "  i[8] = i[8][:i[8].find(\" \")-1]\n",
        "  for j in range(3): add[str(j+2)] = \"    \"+iff(j==0,\"§l\",\"§7\")+iff(i[j]==\"\",\"???\",i[j])\n",
        "  for j in range(len(i[3])):\n",
        "    k += len(i[3][j])\n",
        "    o += \" \"+i[3][j]\n",
        "    if k > 20: add[str(ii)],k,o,ii=[\"   §#909090\"+o,0,\"\",ii+1]\n",
        "  add[str(ii)] = \"   §#909090\"+o\n",
        "  image(np.array(PIL.Image.open(urllib.request.urlopen(i[6]))),int(lllist(chat,2,iff(\".\"in chat[0],215,24))),int(lllist(chat,3,24)),add,[iff(\".\"in chat[0],\"︱\",\"█\"),\"000000..´.\"])"
      ],
      "metadata": {
        "id": "9ilREtJGorHm"
      },
      "execution_count": null,
      "outputs": []
    },
    {
      "cell_type": "code",
      "source": [
        "        i[0] = music[music.find(s+\"\\\",\\\"name\\\"\")+len(s)+10:]\n",
        "        i[0] = i[0][:i[0].find(\"\\\"datePublished\\\":\")-2]\n",
        "        exec(\"i[0]=\\\"\"+i[0].replace(\"\\\\\\\\u\",\"\\\\u\").replace(\"\\\"\",\"\\\\\\\"\")+\"\\\"\")\n",
        "        i[0] = i[0][i[0].find(\"description\")+25:]\n",
        "        for j in range(2,-1,-1): i[j] = i[0].split(\"·\")[j]#Â\n",
        "        for j in range(2,-1,-1): i[j] = i[j][iff(i[j][0]==\" \",1,0):]\n",
        "        for j in range(2,-1,-1): i[j] = i[j][:iff(i[j][len(i[j])-1]==\" \",len(i[j])-1,None)]"
      ],
      "metadata": {
        "id": "ATqWXkqbmyO_"
      },
      "execution_count": null,
      "outputs": []
    },
    {
      "cell_type": "code",
      "source": [
        "i[0] = music[music.find(\"<meta name=\\\"description\\\" content=\")+len(s)+10:]\n",
        "i[0] = i[0][:i[0].find(\"\\\"/>\")]"
      ],
      "metadata": {
        "id": "rEBZM7CLncSv"
      },
      "execution_count": null,
      "outputs": []
    },
    {
      "cell_type": "code",
      "source": [
        "i"
      ],
      "metadata": {
        "colab": {
          "base_uri": "https://localhost:8080/"
        },
        "id": "cXICvIFPmzEH",
        "outputId": "85de7581-ca3f-49c3-e293-938c27416cef"
      },
      "execution_count": null,
      "outputs": [
        {
          "output_type": "execute_result",
          "data": {
            "text/plain": [
              "['ð\\x9d\\x93\\x9dð\\x9d\\x93£ð\\x9d\\x93\\x94ð\\x9d\\x93¡ð\\x9d\\x93\\x96ð\\x9d\\x93\\x90ð\\x9d\\x93\\x9dð\\x9d\\x93\\x96ð\\x9d\\x93¢ð\\x9d\\x93\\x9cð\\x9d\\x93¤ð\\x9d\\x93¢ð\\x9d\\x93\\x98ð\\x9d\\x93\\x9a Â· 43 items Â· 1 saves',\n",
              " 'â£ºBSWSXâ£\\x97 Â',\n",
              " '43 items Â',\n",
              " ['ð\\x9d\\x97\\x97ð\\x9d\\x97\\x9cð\\x9d\\x97\\x98',\n",
              "  'ð\\x9d\\x97\\x95ð\\x9d\\x97\\x98ð\\x9d\\x97¦ð\\x9d\\x97§ð\\x9d\\x97\\x98',\n",
              "  'ð\\x9d\\x97\\xa0ð\\x9d\\x97¨ð\\x9d\\x97¦ð\\x9d\\x97\\x9cð\\x9d\\x97\\x9e',\n",
              "  'ð\\x9d\\x97\\xadð\\x9d\\x97¨ð\\x9d\\x97\\xa0',\n",
              "  'ð\\x9d\\x97\\xa0ð\\x9d\\x97¢ð\\x9d\\x97\\x95ð\\x9d\\x97¦',\n",
              "  'ð\\x9d\\x97\\x9eð\\x9d\\x97\\x9cð\\x9d\\x97\\x9fð\\x9d\\x97\\x9fð\\x9d\\x97\\x98ð\\x9d\\x97¡',\n",
              "  'ð\\x90\\x9c¶'],\n",
              " 'â£ºBSWSXâ£\\x97',\n",
              " '31opvirxnldld2vow4wunpebx4ry',\n",
              " 'https://image-cdn-ak.spotifycdn.com/image/ab67706c0000da842f53d4a6a62b17c978442f0c',\n",
              " ['https://open.spotify.com/track/48IFLp9fyEi9zhWhdUXG8J',\n",
              "  'https://open.spotify.com/track/65cp16LjOqrVWT70JzbePV',\n",
              "  'https://open.spotify.com/track/4RU80du7FoS78b6iNwqT2u',\n",
              "  'https://open.spotify.com/track/7ebX6UyFohCPVivdOBf7Kb',\n",
              "  'https://open.spotify.com/track/0iUrxveyNUBfj0cqjYEijt',\n",
              "  'https://open.spotify.com/track/29jZ250ZoEDjusJHbPZLSc',\n",
              "  'https://open.spotify.com/track/1tfhWX8nbTufZhrXxLqWxI',\n",
              "  'https://open.spotify.com/track/7fZPSnYp7Q42j2ugYoSUI6',\n",
              "  'https://open.spotify.com/track/5TaKc7gTLqNdJYxYkHoDvh',\n",
              "  'https://open.spotify.com/track/2jZlgURLEoX8C6YvDBO502',\n",
              "  'https://open.spotify.com/track/2hrAm06J9gyghd4jc3dT41',\n",
              "  'https://open.spotify.com/track/4vO3dod140Pga1OJBG5F3U',\n",
              "  'https://open.spotify.com/track/06xoqf053GxhYbQzAxuLfs',\n",
              "  'https://open.spotify.com/track/1aAWPeD8Y0Vc8qtGkDFzgs',\n",
              "  'https://open.spotify.com/track/1nePLpE9yPd7SpfvcqN9wj',\n",
              "  'https://open.spotify.com/track/65YPiyiBBGQgqjiSG8jkvM',\n",
              "  'https://open.spotify.com/track/3ftPIRFMZ51LPjbcADmbND',\n",
              "  'https://open.spotify.com/track/3hzKc1Hftntkp9bcWyBRuK',\n",
              "  'https://open.spotify.com/track/2e8n9MUgPIOPVTPhfHgS3z',\n",
              "  'https://open.spotify.com/track/7m2Vdq83qoscEJfBRB1jUj',\n",
              "  'https://open.spotify.com/track/7GuQbbFUyx3q8ZwjUOjrmS',\n",
              "  'https://open.spotify.com/track/16pdWE0N1P7egz3728Mmzq',\n",
              "  'https://open.spotify.com/track/71byiWGYLw68B1LNds07pr',\n",
              "  'https://open.spotify.com/track/1JKPcsCO8WKXbZWGDlmCuE',\n",
              "  'https://open.spotify.com/track/0yZMj1t2YwKbIjUXxgE4kN',\n",
              "  'https://open.spotify.com/track/56UfOEBfdpQPA4lbhl7xqp',\n",
              "  'https://open.spotify.com/track/0nqa9bJCvkbIfswzsqQJt5',\n",
              "  'https://open.spotify.com/track/7rfVwMIoXwKK7YsV9MzOV1',\n",
              "  'https://open.spotify.com/track/3pZRijdAHsABvCEEZnH5lK',\n",
              "  'https://open.spotify.com/track/06GFFEiU8dNkCFzeJFE4EP'],\n",
              " 'https://i.scdn.co/image/ab6775700000ee859456d760af4adabe18573051']"
            ]
          },
          "metadata": {},
          "execution_count": 449
        }
      ]
    },
    {
      "cell_type": "code",
      "source": [
        "music= requests.get(\"https://api.codetabs.com/v1/proxy/?quest=https://open.spotify.com/playlist/3Hibbe65bEjrW5hxhS09uj/\").text"
      ],
      "metadata": {
        "id": "nof-jyvfmsof"
      },
      "execution_count": null,
      "outputs": []
    },
    {
      "cell_type": "code",
      "execution_count": null,
      "metadata": {
        "id": "AU8fdoanBqLS"
      },
      "outputs": [],
      "source": [
        "help = [\n",
        "  \"§#00aa00%help§#007700 öffnet das help menü\",\n",
        "  \"§#00aa00%stop§#007700 stoppt Cheat\",\n",
        "  \"§#00aa00%pos§#007700 macht eine neue Pos\",\"§#005500 ┠ >0 ist . = Silent\",\"§#005500 ┠ 1 = (Name von Pos)\",\"§#005500 ┠ 2 ist H = (Pos aufm Boden)\",\"§#005500 ┗ 2 ist G = (Pos wird nicht gesetzt, sondern angezeigt)\",\n",
        "  \"§#00aa00%posinfo§#007700 zeigt alle Pos an\",\n",
        "  \"§#00aa00%tp§#007700 teleport\",\"§#005500 ┠ 1 = Spielerliste oder Spieler\",\"§#005500 ┗ 2 = Pos oder Spieler\",\n",
        "  \"§#00aa00%skin§#007700 zeigt Skin von Spieler\",\"§#005500 ┠ >0 = ist . +layer\",\"§#005500 ┠ 1 = (Spielername)\",\"§#005500 ┠ 2 = (breite)\",\"§#005500 ┗ 3 = (höhe)\",\n",
        "  \"§#00aa00%head§#007700 zeigt Kopf von Spieler\",\"§#005500 ┠ >0 = ist . +layer\",\"§#005500 ┠ 1 = (Spielername)\",\"§#005500 ┠ 2 = (breite)\",\"§#005500 ┗ 3 = (höhe)\",\n",
        "  \"§#00aa00%stats§#007700 zeigt Stats von Spieler §#005500[Position, Skin, Entfernung, UUID, Cape usw...]\",\n",
        "  \"§#00aa00%color§#007700 plaziert den passenden Block zur farbe\",\"§#005500 ┗ 1 = (hex-Farbe)\",\n",
        "  \"§#00aa00%blockkopf§#007700 erstellt ein großen Kopf von ein Spieler\",\"§#005500 ┗ 1 = (Spielername)\",\n",
        "  \"§#00aa00%line§#441100 ist zurzeit verbuggt lieber nicht testen ☹\",\n",
        "  \"§#66aa00%%debugvar§#447700 ist nur zum Debug, eigentlich nutzlos kann aber interessant sein\",\n",
        "  \"§#66aa00%%log§#447700 fürt einfach nur ein Print Befehl aus nur Keks_Creeper kann sehen, Uninteressant\"\n",
        "]"
      ]
    },
    {
      "cell_type": "code",
      "source": [
        "x,y,z = mc.entity.getTilePos(myID)\n",
        "m,s,n = [2,15,50]\n",
        "for l in range(50):\n",
        "  for i in range(2*m):\n",
        "    nx,ny,nz = [x+cos((i+l/n+1)/m*pi)*s,y+sin((i+l/n+1)/m*pi)*s,z+l]\n",
        "    sx,sy,sz = [x+cos((i+l/n)/m*pi)*s,y+sin((i+l/n)/m*pi)*s,z+l]\n",
        "    g = ceil(sqrt(abs(nx-sx)**2+abs(ny-sy)**2+abs(nz-sz)**2))\n",
        "    for j in range(g): mc.setBlock(inpol(j,0,g,nx,sx),inpol(j,0,g,ny,sy),inpol(j,0,g,nz,sz),251,4)"
      ],
      "metadata": {
        "id": "_SmTIJtnLJnf",
        "outputId": "cc0e3646-7c90-4791-c74b-a2f9c575ef12",
        "colab": {
          "base_uri": "https://localhost:8080/",
          "height": 215
        }
      },
      "execution_count": null,
      "outputs": [
        {
          "output_type": "error",
          "ename": "NameError",
          "evalue": "name 'mc' is not defined",
          "traceback": [
            "\u001b[0;31m---------------------------------------------------------------------------\u001b[0m",
            "\u001b[0;31mNameError\u001b[0m                                 Traceback (most recent call last)",
            "\u001b[0;32m<ipython-input-1-5b915136ece9>\u001b[0m in \u001b[0;36m<cell line: 0>\u001b[0;34m()\u001b[0m\n\u001b[0;32m----> 1\u001b[0;31m \u001b[0mx\u001b[0m\u001b[0;34m,\u001b[0m\u001b[0my\u001b[0m\u001b[0;34m,\u001b[0m\u001b[0mz\u001b[0m \u001b[0;34m=\u001b[0m \u001b[0mmc\u001b[0m\u001b[0;34m.\u001b[0m\u001b[0mentity\u001b[0m\u001b[0;34m.\u001b[0m\u001b[0mgetTilePos\u001b[0m\u001b[0;34m(\u001b[0m\u001b[0mmyID\u001b[0m\u001b[0;34m)\u001b[0m\u001b[0;34m\u001b[0m\u001b[0;34m\u001b[0m\u001b[0m\n\u001b[0m\u001b[1;32m      2\u001b[0m \u001b[0mm\u001b[0m\u001b[0;34m,\u001b[0m\u001b[0ms\u001b[0m\u001b[0;34m,\u001b[0m\u001b[0mn\u001b[0m \u001b[0;34m=\u001b[0m \u001b[0;34m[\u001b[0m\u001b[0;36m2\u001b[0m\u001b[0;34m,\u001b[0m\u001b[0;36m15\u001b[0m\u001b[0;34m,\u001b[0m\u001b[0;36m50\u001b[0m\u001b[0;34m]\u001b[0m\u001b[0;34m\u001b[0m\u001b[0;34m\u001b[0m\u001b[0m\n\u001b[1;32m      3\u001b[0m \u001b[0;32mfor\u001b[0m \u001b[0ml\u001b[0m \u001b[0;32min\u001b[0m \u001b[0mrange\u001b[0m\u001b[0;34m(\u001b[0m\u001b[0;36m50\u001b[0m\u001b[0;34m)\u001b[0m\u001b[0;34m:\u001b[0m\u001b[0;34m\u001b[0m\u001b[0;34m\u001b[0m\u001b[0m\n\u001b[1;32m      4\u001b[0m   \u001b[0;32mfor\u001b[0m \u001b[0mi\u001b[0m \u001b[0;32min\u001b[0m \u001b[0mrange\u001b[0m\u001b[0;34m(\u001b[0m\u001b[0;36m2\u001b[0m\u001b[0;34m*\u001b[0m\u001b[0mm\u001b[0m\u001b[0;34m)\u001b[0m\u001b[0;34m:\u001b[0m\u001b[0;34m\u001b[0m\u001b[0;34m\u001b[0m\u001b[0m\n\u001b[1;32m      5\u001b[0m     \u001b[0mnx\u001b[0m\u001b[0;34m,\u001b[0m\u001b[0mny\u001b[0m\u001b[0;34m,\u001b[0m\u001b[0mnz\u001b[0m \u001b[0;34m=\u001b[0m \u001b[0;34m[\u001b[0m\u001b[0mx\u001b[0m\u001b[0;34m+\u001b[0m\u001b[0mcos\u001b[0m\u001b[0;34m(\u001b[0m\u001b[0;34m(\u001b[0m\u001b[0mi\u001b[0m\u001b[0;34m+\u001b[0m\u001b[0ml\u001b[0m\u001b[0;34m/\u001b[0m\u001b[0mn\u001b[0m\u001b[0;34m+\u001b[0m\u001b[0;36m1\u001b[0m\u001b[0;34m)\u001b[0m\u001b[0;34m/\u001b[0m\u001b[0mm\u001b[0m\u001b[0;34m*\u001b[0m\u001b[0mpi\u001b[0m\u001b[0;34m)\u001b[0m\u001b[0;34m*\u001b[0m\u001b[0ms\u001b[0m\u001b[0;34m,\u001b[0m\u001b[0my\u001b[0m\u001b[0;34m+\u001b[0m\u001b[0msin\u001b[0m\u001b[0;34m(\u001b[0m\u001b[0;34m(\u001b[0m\u001b[0mi\u001b[0m\u001b[0;34m+\u001b[0m\u001b[0ml\u001b[0m\u001b[0;34m/\u001b[0m\u001b[0mn\u001b[0m\u001b[0;34m+\u001b[0m\u001b[0;36m1\u001b[0m\u001b[0;34m)\u001b[0m\u001b[0;34m/\u001b[0m\u001b[0mm\u001b[0m\u001b[0;34m*\u001b[0m\u001b[0mpi\u001b[0m\u001b[0;34m)\u001b[0m\u001b[0;34m*\u001b[0m\u001b[0ms\u001b[0m\u001b[0;34m,\u001b[0m\u001b[0mz\u001b[0m\u001b[0;34m+\u001b[0m\u001b[0ml\u001b[0m\u001b[0;34m]\u001b[0m\u001b[0;34m\u001b[0m\u001b[0;34m\u001b[0m\u001b[0m\n",
            "\u001b[0;31mNameError\u001b[0m: name 'mc' is not defined"
          ]
        }
      ]
    },
    {
      "cell_type": "code",
      "source": [
        "x,y,z = mc.entity.getTilePos(myID)\n",
        "l=np.array(PIL.Image.open(\"KC.png\"))\n",
        "square([x,y,z],[x,y,z+150],[x+150,y,z-50],[x+150,y,z+100],l,[0,len(l)-1],[len(l[0])-1,0])"
      ],
      "metadata": {
        "id": "i_yhZ75e2QrA"
      },
      "execution_count": null,
      "outputs": []
    },
    {
      "cell_type": "code",
      "source": [
        "img"
      ],
      "metadata": {
        "id": "JZ70GWvwbVXL"
      },
      "execution_count": null,
      "outputs": []
    },
    {
      "cell_type": "code",
      "source": [
        "pos = [[-7,7,5],[7,7,5],[7,-7,5],[-7,-7,5],[-7,7,9],[7,7,9],[7,-7,9],[-7,-7,9]]\n",
        "edges = [[0,1],[1,2],[2,3],[3,0],[4,5],[5,6],[6,7],[7,4],[0,4],[1,5],[2,6],[3,7]]\n",
        "sz,sx,sy = mc.entity.getPos(myID)\n",
        "while True:\n",
        "  z,x,y = mc.entity.getPos(myID)\n",
        "  rot = mc.entity.getRotation(myID)\n",
        "  pit = mc.entity.getPitch(myID)\n",
        "  proj,projp,cam,chats,rot_pos = [[],[],[sx-x,sy-y,(sz-z)/10],[],[]]\n",
        "  for i in pos:\n",
        "    rot_pos.append([i[0],i[1],i[2]])\n",
        "  for i in rot_pos:\n",
        "    if (i[2]-cam[2]) > 0:\n",
        "      proj.append([int((i[0]-cam[0])/atan(i[2]-cam[2])),int((i[1]-cam[1])/atan(i[2]-cam[2]))])\n",
        "  for i in range(len(edges)):\n",
        "    T = False\n",
        "    try: s = sqrt(abs(proj[edges[i][0]][0]-proj[edges[i][1]][0])**2+abs(proj[edges[i][0]][1]-proj[edges[i][1]][1])**2)\n",
        "    except: T=True\n",
        "    if not T:\n",
        "      for j in range(ceil(s)): projp.append([round(inpol(j,0,s,proj[edges[i][0]][0],proj[edges[i][1]][0])),round(inpol(j,0,s,proj[edges[i][0]][1],proj[edges[i][1]][1]))])\n",
        "  for i in range(-30,30):\n",
        "    o = \"\"\n",
        "    for j in range(-30,30):\n",
        "      m = 0\n",
        "      if [i,j] in projp: m+=.7\n",
        "      if [i,j] in proj: m+=1\n",
        "      o+=\"§#\"+hsv_to_hex(0,0,int(co(m,0,1)*255))+\"█\"\n",
        "    chats.append(o)\n",
        "  for i in chats: mc.postToChat(i)"
      ],
      "metadata": {
        "colab": {
          "base_uri": "https://localhost:8080/",
          "height": 391
        },
        "id": "V_1eajDKDoyI",
        "outputId": "d80c177b-9e20-44e5-80a3-190a717a7603"
      },
      "execution_count": null,
      "outputs": [
        {
          "output_type": "stream",
          "name": "stderr",
          "text": [
            "Drained Data: <b'-6.4500113'>\n",
            "Last Message: <b'entity.getPitch(2182)'>\n"
          ]
        },
        {
          "output_type": "error",
          "ename": "KeyboardInterrupt",
          "evalue": "",
          "traceback": [
            "\u001b[0;31m---------------------------------------------------------------------------\u001b[0m",
            "\u001b[0;31mKeyboardInterrupt\u001b[0m                         Traceback (most recent call last)",
            "\u001b[0;32m<ipython-input-18-c5f4bb81e885>\u001b[0m in \u001b[0;36m<cell line: 4>\u001b[0;34m()\u001b[0m\n\u001b[1;32m      4\u001b[0m \u001b[0;32mwhile\u001b[0m \u001b[0;32mTrue\u001b[0m\u001b[0;34m:\u001b[0m\u001b[0;34m\u001b[0m\u001b[0;34m\u001b[0m\u001b[0m\n\u001b[1;32m      5\u001b[0m   \u001b[0mz\u001b[0m\u001b[0;34m,\u001b[0m\u001b[0mx\u001b[0m\u001b[0;34m,\u001b[0m\u001b[0my\u001b[0m \u001b[0;34m=\u001b[0m \u001b[0mmc\u001b[0m\u001b[0;34m.\u001b[0m\u001b[0mentity\u001b[0m\u001b[0;34m.\u001b[0m\u001b[0mgetPos\u001b[0m\u001b[0;34m(\u001b[0m\u001b[0mmyID\u001b[0m\u001b[0;34m)\u001b[0m\u001b[0;34m\u001b[0m\u001b[0;34m\u001b[0m\u001b[0m\n\u001b[0;32m----> 6\u001b[0;31m   \u001b[0mrot\u001b[0m \u001b[0;34m=\u001b[0m \u001b[0mmc\u001b[0m\u001b[0;34m.\u001b[0m\u001b[0mentity\u001b[0m\u001b[0;34m.\u001b[0m\u001b[0mgetRotation\u001b[0m\u001b[0;34m(\u001b[0m\u001b[0mmyID\u001b[0m\u001b[0;34m)\u001b[0m\u001b[0;34m\u001b[0m\u001b[0;34m\u001b[0m\u001b[0m\n\u001b[0m\u001b[1;32m      7\u001b[0m   \u001b[0mpit\u001b[0m \u001b[0;34m=\u001b[0m \u001b[0mmc\u001b[0m\u001b[0;34m.\u001b[0m\u001b[0mentity\u001b[0m\u001b[0;34m.\u001b[0m\u001b[0mgetPitch\u001b[0m\u001b[0;34m(\u001b[0m\u001b[0mmyID\u001b[0m\u001b[0;34m)\u001b[0m\u001b[0;34m\u001b[0m\u001b[0;34m\u001b[0m\u001b[0m\n\u001b[1;32m      8\u001b[0m   \u001b[0mproj\u001b[0m\u001b[0;34m,\u001b[0m\u001b[0mprojp\u001b[0m\u001b[0;34m,\u001b[0m\u001b[0mcam\u001b[0m\u001b[0;34m,\u001b[0m\u001b[0mchats\u001b[0m\u001b[0;34m,\u001b[0m\u001b[0mrot_pos\u001b[0m \u001b[0;34m=\u001b[0m \u001b[0;34m[\u001b[0m\u001b[0;34m[\u001b[0m\u001b[0;34m]\u001b[0m\u001b[0;34m,\u001b[0m\u001b[0;34m[\u001b[0m\u001b[0;34m]\u001b[0m\u001b[0;34m,\u001b[0m\u001b[0;34m[\u001b[0m\u001b[0msx\u001b[0m\u001b[0;34m-\u001b[0m\u001b[0mx\u001b[0m\u001b[0;34m,\u001b[0m\u001b[0msy\u001b[0m\u001b[0;34m-\u001b[0m\u001b[0my\u001b[0m\u001b[0;34m,\u001b[0m\u001b[0msz\u001b[0m\u001b[0;34m-\u001b[0m\u001b[0mz\u001b[0m\u001b[0;34m]\u001b[0m\u001b[0;34m,\u001b[0m\u001b[0;34m[\u001b[0m\u001b[0;34m]\u001b[0m\u001b[0;34m,\u001b[0m\u001b[0;34m[\u001b[0m\u001b[0;34m]\u001b[0m\u001b[0;34m]\u001b[0m\u001b[0;34m\u001b[0m\u001b[0;34m\u001b[0m\u001b[0m\n",
            "\u001b[0;32m/usr/local/lib/python3.10/dist-packages/mcpi/minecraft.py\u001b[0m in \u001b[0;36mgetRotation\u001b[0;34m(self, id)\u001b[0m\n\u001b[1;32m     49\u001b[0m     \u001b[0;32mdef\u001b[0m \u001b[0mgetRotation\u001b[0m\u001b[0;34m(\u001b[0m\u001b[0mself\u001b[0m\u001b[0;34m,\u001b[0m \u001b[0mid\u001b[0m\u001b[0;34m)\u001b[0m\u001b[0;34m:\u001b[0m\u001b[0;34m\u001b[0m\u001b[0;34m\u001b[0m\u001b[0m\n\u001b[1;32m     50\u001b[0m         \u001b[0;34m\"\"\"get entity rotation (entityId:int) => float\"\"\"\u001b[0m\u001b[0;34m\u001b[0m\u001b[0;34m\u001b[0m\u001b[0m\n\u001b[0;32m---> 51\u001b[0;31m         \u001b[0;32mreturn\u001b[0m \u001b[0mfloat\u001b[0m\u001b[0;34m(\u001b[0m\u001b[0mself\u001b[0m\u001b[0;34m.\u001b[0m\u001b[0mconn\u001b[0m\u001b[0;34m.\u001b[0m\u001b[0msendReceive\u001b[0m\u001b[0;34m(\u001b[0m\u001b[0mself\u001b[0m\u001b[0;34m.\u001b[0m\u001b[0mpkg\u001b[0m \u001b[0;34m+\u001b[0m \u001b[0;34mb\".getRotation\"\u001b[0m\u001b[0;34m,\u001b[0m \u001b[0mid\u001b[0m\u001b[0;34m)\u001b[0m\u001b[0;34m)\u001b[0m\u001b[0;34m\u001b[0m\u001b[0;34m\u001b[0m\u001b[0m\n\u001b[0m\u001b[1;32m     52\u001b[0m \u001b[0;34m\u001b[0m\u001b[0m\n\u001b[1;32m     53\u001b[0m     \u001b[0;32mdef\u001b[0m \u001b[0msetPitch\u001b[0m\u001b[0;34m(\u001b[0m\u001b[0mself\u001b[0m\u001b[0;34m,\u001b[0m \u001b[0mid\u001b[0m\u001b[0;34m,\u001b[0m \u001b[0mpitch\u001b[0m\u001b[0;34m)\u001b[0m\u001b[0;34m:\u001b[0m\u001b[0;34m\u001b[0m\u001b[0;34m\u001b[0m\u001b[0m\n",
            "\u001b[0;32m/usr/local/lib/python3.10/dist-packages/mcpi/connection.py\u001b[0m in \u001b[0;36msendReceive\u001b[0;34m(self, *data)\u001b[0m\n\u001b[1;32m     58\u001b[0m         \u001b[0;34m\"\"\"Sends and receive data\"\"\"\u001b[0m\u001b[0;34m\u001b[0m\u001b[0;34m\u001b[0m\u001b[0m\n\u001b[1;32m     59\u001b[0m         \u001b[0mself\u001b[0m\u001b[0;34m.\u001b[0m\u001b[0msend\u001b[0m\u001b[0;34m(\u001b[0m\u001b[0;34m*\u001b[0m\u001b[0mdata\u001b[0m\u001b[0;34m)\u001b[0m\u001b[0;34m\u001b[0m\u001b[0;34m\u001b[0m\u001b[0m\n\u001b[0;32m---> 60\u001b[0;31m         \u001b[0;32mreturn\u001b[0m \u001b[0mself\u001b[0m\u001b[0;34m.\u001b[0m\u001b[0mreceive\u001b[0m\u001b[0;34m(\u001b[0m\u001b[0;34m)\u001b[0m\u001b[0;34m\u001b[0m\u001b[0;34m\u001b[0m\u001b[0m\n\u001b[0m",
            "\u001b[0;32m/usr/local/lib/python3.10/dist-packages/mcpi/connection.py\u001b[0m in \u001b[0;36mreceive\u001b[0;34m(self)\u001b[0m\n\u001b[1;32m     50\u001b[0m     \u001b[0;32mdef\u001b[0m \u001b[0mreceive\u001b[0m\u001b[0;34m(\u001b[0m\u001b[0mself\u001b[0m\u001b[0;34m)\u001b[0m\u001b[0;34m:\u001b[0m\u001b[0;34m\u001b[0m\u001b[0;34m\u001b[0m\u001b[0m\n\u001b[1;32m     51\u001b[0m         \u001b[0;34m\"\"\"Receives data. Note that the trailing newline '\\n' is trimmed\"\"\"\u001b[0m\u001b[0;34m\u001b[0m\u001b[0;34m\u001b[0m\u001b[0m\n\u001b[0;32m---> 52\u001b[0;31m         \u001b[0ms\u001b[0m \u001b[0;34m=\u001b[0m \u001b[0mself\u001b[0m\u001b[0;34m.\u001b[0m\u001b[0msocket\u001b[0m\u001b[0;34m.\u001b[0m\u001b[0mmakefile\u001b[0m\u001b[0;34m(\u001b[0m\u001b[0;34m\"r\"\u001b[0m\u001b[0;34m)\u001b[0m\u001b[0;34m.\u001b[0m\u001b[0mreadline\u001b[0m\u001b[0;34m(\u001b[0m\u001b[0;34m)\u001b[0m\u001b[0;34m.\u001b[0m\u001b[0mrstrip\u001b[0m\u001b[0;34m(\u001b[0m\u001b[0;34m\"\\n\"\u001b[0m\u001b[0;34m)\u001b[0m\u001b[0;34m\u001b[0m\u001b[0;34m\u001b[0m\u001b[0m\n\u001b[0m\u001b[1;32m     53\u001b[0m         \u001b[0;32mif\u001b[0m \u001b[0ms\u001b[0m \u001b[0;34m==\u001b[0m \u001b[0mConnection\u001b[0m\u001b[0;34m.\u001b[0m\u001b[0mRequestFailed\u001b[0m\u001b[0;34m:\u001b[0m\u001b[0;34m\u001b[0m\u001b[0;34m\u001b[0m\u001b[0m\n\u001b[1;32m     54\u001b[0m             \u001b[0;32mraise\u001b[0m \u001b[0mRequestError\u001b[0m\u001b[0;34m(\u001b[0m\u001b[0;34m\"%s failed\"\u001b[0m\u001b[0;34m%\u001b[0m\u001b[0mself\u001b[0m\u001b[0;34m.\u001b[0m\u001b[0mlastSent\u001b[0m\u001b[0;34m.\u001b[0m\u001b[0mstrip\u001b[0m\u001b[0;34m(\u001b[0m\u001b[0;34m)\u001b[0m\u001b[0;34m)\u001b[0m\u001b[0;34m\u001b[0m\u001b[0;34m\u001b[0m\u001b[0m\n",
            "\u001b[0;32m/usr/lib/python3.10/socket.py\u001b[0m in \u001b[0;36mreadinto\u001b[0;34m(self, b)\u001b[0m\n\u001b[1;32m    703\u001b[0m         \u001b[0;32mwhile\u001b[0m \u001b[0;32mTrue\u001b[0m\u001b[0;34m:\u001b[0m\u001b[0;34m\u001b[0m\u001b[0;34m\u001b[0m\u001b[0m\n\u001b[1;32m    704\u001b[0m             \u001b[0;32mtry\u001b[0m\u001b[0;34m:\u001b[0m\u001b[0;34m\u001b[0m\u001b[0;34m\u001b[0m\u001b[0m\n\u001b[0;32m--> 705\u001b[0;31m                 \u001b[0;32mreturn\u001b[0m \u001b[0mself\u001b[0m\u001b[0;34m.\u001b[0m\u001b[0m_sock\u001b[0m\u001b[0;34m.\u001b[0m\u001b[0mrecv_into\u001b[0m\u001b[0;34m(\u001b[0m\u001b[0mb\u001b[0m\u001b[0;34m)\u001b[0m\u001b[0;34m\u001b[0m\u001b[0;34m\u001b[0m\u001b[0m\n\u001b[0m\u001b[1;32m    706\u001b[0m             \u001b[0;32mexcept\u001b[0m \u001b[0mtimeout\u001b[0m\u001b[0;34m:\u001b[0m\u001b[0;34m\u001b[0m\u001b[0;34m\u001b[0m\u001b[0m\n\u001b[1;32m    707\u001b[0m                 \u001b[0mself\u001b[0m\u001b[0;34m.\u001b[0m\u001b[0m_timeout_occurred\u001b[0m \u001b[0;34m=\u001b[0m \u001b[0;32mTrue\u001b[0m\u001b[0;34m\u001b[0m\u001b[0;34m\u001b[0m\u001b[0m\n",
            "\u001b[0;31mKeyboardInterrupt\u001b[0m: "
          ]
        }
      ]
    },
    {
      "cell_type": "code",
      "source": [
        "o = zdlist(50,300,\".\")\n",
        "pos = [[[0,0,5],[10,0,5],[10,10,5]],[[0,0,5],[0,10,5],[10,10,5]]]\n",
        "for i in pos:\n",
        "  pts = drei_D_dingens(i,[0,0,0],[0,5,0],300)\n",
        "  T = sqrt(abs(i[0][0]-i[1][0])**2+abs(i[0][1]-i[1][1])**2)\n",
        "  print(f\"T {T}\\n\")\n",
        "  for j in range(ceil(T)):\n",
        "    try: o[round(inpol(j,0,T,i[0][0],i[1][0]))][round(inpol(j,0,T,i[0][1],i[1][1]))] = \"█\"\n",
        "    except: T-T\n",
        "  T = sqrt(abs(i[0][0]-i[2][0])**2+abs(i[0][1]-i[2][1])**2)\n",
        "  print(f\"T {T}\\n\")\n",
        "  for j in range(ceil(T)):\n",
        "    try: o[round(inpol(j,0,T,i[0][0],i[2][0]))][round(inpol(j,0,T,i[0][1],i[2][1]))] = \"█\"\n",
        "    except: T-T\n",
        "  T = sqrt(abs(i[1][0]-i[2][0])**2+abs(i[1][1]-i[2][1])**2)\n",
        "  print(f\"T {T}\\n\")\n",
        "  for j in range(ceil(T)):\n",
        "    try: o[round(inpol(j,0,T,i[1][0],i[2][0]))][round(inpol(j,0,T,i[1][1],i[2][1]))] = \"█\"\n",
        "    except: T-T\n",
        "for i in o:\n",
        "  m=\"\"\n",
        "  for j in i: m+=j\n",
        "  print(m)"
      ],
      "metadata": {
        "id": "HcwRB_lnIy6q",
        "colab": {
          "base_uri": "https://localhost:8080/",
          "height": 216
        },
        "outputId": "25ad1bc5-6599-407f-8497-c05ea562d5c2"
      },
      "execution_count": null,
      "outputs": [
        {
          "output_type": "error",
          "ename": "NameError",
          "evalue": "name 'zdlist' is not defined",
          "traceback": [
            "\u001b[0;31m---------------------------------------------------------------------------\u001b[0m",
            "\u001b[0;31mNameError\u001b[0m                                 Traceback (most recent call last)",
            "\u001b[0;32m<ipython-input-1-07031f8dec07>\u001b[0m in \u001b[0;36m<cell line: 0>\u001b[0;34m()\u001b[0m\n\u001b[0;32m----> 1\u001b[0;31m \u001b[0mo\u001b[0m \u001b[0;34m=\u001b[0m \u001b[0mzdlist\u001b[0m\u001b[0;34m(\u001b[0m\u001b[0;36m50\u001b[0m\u001b[0;34m,\u001b[0m\u001b[0;36m300\u001b[0m\u001b[0;34m,\u001b[0m\u001b[0;34m\".\"\u001b[0m\u001b[0;34m)\u001b[0m\u001b[0;34m\u001b[0m\u001b[0;34m\u001b[0m\u001b[0m\n\u001b[0m\u001b[1;32m      2\u001b[0m \u001b[0mpos\u001b[0m \u001b[0;34m=\u001b[0m \u001b[0;34m[\u001b[0m\u001b[0;34m[\u001b[0m\u001b[0;34m[\u001b[0m\u001b[0;36m0\u001b[0m\u001b[0;34m,\u001b[0m\u001b[0;36m0\u001b[0m\u001b[0;34m,\u001b[0m\u001b[0;36m5\u001b[0m\u001b[0;34m]\u001b[0m\u001b[0;34m,\u001b[0m\u001b[0;34m[\u001b[0m\u001b[0;36m10\u001b[0m\u001b[0;34m,\u001b[0m\u001b[0;36m0\u001b[0m\u001b[0;34m,\u001b[0m\u001b[0;36m5\u001b[0m\u001b[0;34m]\u001b[0m\u001b[0;34m,\u001b[0m\u001b[0;34m[\u001b[0m\u001b[0;36m10\u001b[0m\u001b[0;34m,\u001b[0m\u001b[0;36m10\u001b[0m\u001b[0;34m,\u001b[0m\u001b[0;36m5\u001b[0m\u001b[0;34m]\u001b[0m\u001b[0;34m]\u001b[0m\u001b[0;34m,\u001b[0m\u001b[0;34m[\u001b[0m\u001b[0;34m[\u001b[0m\u001b[0;36m0\u001b[0m\u001b[0;34m,\u001b[0m\u001b[0;36m0\u001b[0m\u001b[0;34m,\u001b[0m\u001b[0;36m5\u001b[0m\u001b[0;34m]\u001b[0m\u001b[0;34m,\u001b[0m\u001b[0;34m[\u001b[0m\u001b[0;36m0\u001b[0m\u001b[0;34m,\u001b[0m\u001b[0;36m10\u001b[0m\u001b[0;34m,\u001b[0m\u001b[0;36m5\u001b[0m\u001b[0;34m]\u001b[0m\u001b[0;34m,\u001b[0m\u001b[0;34m[\u001b[0m\u001b[0;36m10\u001b[0m\u001b[0;34m,\u001b[0m\u001b[0;36m10\u001b[0m\u001b[0;34m,\u001b[0m\u001b[0;36m5\u001b[0m\u001b[0;34m]\u001b[0m\u001b[0;34m]\u001b[0m\u001b[0;34m]\u001b[0m\u001b[0;34m\u001b[0m\u001b[0;34m\u001b[0m\u001b[0m\n\u001b[1;32m      3\u001b[0m \u001b[0;32mfor\u001b[0m \u001b[0mi\u001b[0m \u001b[0;32min\u001b[0m \u001b[0mpos\u001b[0m\u001b[0;34m:\u001b[0m\u001b[0;34m\u001b[0m\u001b[0;34m\u001b[0m\u001b[0m\n\u001b[1;32m      4\u001b[0m   \u001b[0mpts\u001b[0m \u001b[0;34m=\u001b[0m \u001b[0mdrei_D_dingens\u001b[0m\u001b[0;34m(\u001b[0m\u001b[0mi\u001b[0m\u001b[0;34m,\u001b[0m\u001b[0;34m[\u001b[0m\u001b[0;36m0\u001b[0m\u001b[0;34m,\u001b[0m\u001b[0;36m0\u001b[0m\u001b[0;34m,\u001b[0m\u001b[0;36m0\u001b[0m\u001b[0;34m]\u001b[0m\u001b[0;34m,\u001b[0m\u001b[0;34m[\u001b[0m\u001b[0;36m0\u001b[0m\u001b[0;34m,\u001b[0m\u001b[0;36m5\u001b[0m\u001b[0;34m,\u001b[0m\u001b[0;36m0\u001b[0m\u001b[0;34m]\u001b[0m\u001b[0;34m,\u001b[0m\u001b[0;36m300\u001b[0m\u001b[0;34m)\u001b[0m\u001b[0;34m\u001b[0m\u001b[0;34m\u001b[0m\u001b[0m\n\u001b[1;32m      5\u001b[0m   \u001b[0mT\u001b[0m \u001b[0;34m=\u001b[0m \u001b[0msqrt\u001b[0m\u001b[0;34m(\u001b[0m\u001b[0mabs\u001b[0m\u001b[0;34m(\u001b[0m\u001b[0mi\u001b[0m\u001b[0;34m[\u001b[0m\u001b[0;36m0\u001b[0m\u001b[0;34m]\u001b[0m\u001b[0;34m[\u001b[0m\u001b[0;36m0\u001b[0m\u001b[0;34m]\u001b[0m\u001b[0;34m-\u001b[0m\u001b[0mi\u001b[0m\u001b[0;34m[\u001b[0m\u001b[0;36m1\u001b[0m\u001b[0;34m]\u001b[0m\u001b[0;34m[\u001b[0m\u001b[0;36m0\u001b[0m\u001b[0;34m]\u001b[0m\u001b[0;34m)\u001b[0m\u001b[0;34m**\u001b[0m\u001b[0;36m2\u001b[0m\u001b[0;34m+\u001b[0m\u001b[0mabs\u001b[0m\u001b[0;34m(\u001b[0m\u001b[0mi\u001b[0m\u001b[0;34m[\u001b[0m\u001b[0;36m0\u001b[0m\u001b[0;34m]\u001b[0m\u001b[0;34m[\u001b[0m\u001b[0;36m1\u001b[0m\u001b[0;34m]\u001b[0m\u001b[0;34m-\u001b[0m\u001b[0mi\u001b[0m\u001b[0;34m[\u001b[0m\u001b[0;36m1\u001b[0m\u001b[0;34m]\u001b[0m\u001b[0;34m[\u001b[0m\u001b[0;36m1\u001b[0m\u001b[0;34m]\u001b[0m\u001b[0;34m)\u001b[0m\u001b[0;34m**\u001b[0m\u001b[0;36m2\u001b[0m\u001b[0;34m)\u001b[0m\u001b[0;34m\u001b[0m\u001b[0;34m\u001b[0m\u001b[0m\n",
            "\u001b[0;31mNameError\u001b[0m: name 'zdlist' is not defined"
          ]
        }
      ]
    },
    {
      "cell_type": "code",
      "source": [
        "def drei_D_dingens(p,campos,rot,fov):\n",
        "  d2r = 0.0174533#cast points to number\n",
        "  sin_cos = [sin(rot[0] * d2r),cos(rot[0] * d2r),sin(rot[1] * d2r),cos(rot[1] * d2r),sin(rot[2] * d2r),cos(rot[2] * d2r)]\n",
        "  kp = [0,0,fov]\n",
        "  for j in range(3):\n",
        "    for i in range(3): p[j][i] += kp[i] - campos[i]\n",
        "  for i in range(3):#Rotate points around camera\n",
        "    t = p[i][0]\n",
        "    p[i][0] = p[i][2] * sin_cos[0] + p[i][0] * sin_cos[1]\n",
        "    p[i][2] = p[i][2] * sin_cos[1] - t * sin_cos[0]\n",
        "    t = p[i][1]\n",
        "    p[i][1] = p[i][2] * sin_cos[2] + p[i][1] * sin_cos[3]\n",
        "    p[i][2] = p[i][2] * sin_cos[3] - t * sin_cos[2]\n",
        "    t = p[i][0]\n",
        "    p[i][0] = p[i][1] * sin_cos[4] + p[i][0] * sin_cos[5]\n",
        "    p[i][1] = p[i][1] * sin_cos[5] - t * sin_cos[4]\n",
        "  if not (p[0][2] < 1 and p[1][2] < 1 and p[2][2] < 1):#Get projection points\n",
        "    for i in range(3):\n",
        "      p[i][0] = fov / p[i][2] * p[i][0]\n",
        "      p[i][1] = fov / p[i][2] * p[i][1]\n",
        "    return p\n",
        "  else: return None"
      ],
      "metadata": {
        "id": "rg1zuVssEaIZ"
      },
      "execution_count": null,
      "outputs": []
    },
    {
      "cell_type": "code",
      "source": [
        "sy,sx,sz = mc.entity.getPos(myID)\n",
        "while True:\n",
        "  y,x,z = mc.entity.getPos(myID)\n",
        "  rot = mc.entity.getRotation(myID)\n",
        "  pit = mc.entity.getPitch(myID)\n",
        "  o = zdlist(30,30,\"§0█\")\n",
        "  pos = [[[0,0,50],[10,0,50],[10,10,50]],[[0,0,50],[0,10,50],[10,10,50]]]\n",
        "  for i in pos:\n",
        "    pts = drei_D_dingens(i,[sx-x,y-sy,sz-z],[rot/5000,-pit/5000,0],300)\n",
        "    if pts:\n",
        "      T = ceil(sqrt(abs(pts[0][0]-pts[1][0])**2+abs(pts[0][1]-pts[1][1])**2))\n",
        "      for j in range(T+1):\n",
        "        u,v = [round(inpol(j,0,T,pts[0][0],pts[1][0])),round(inpol(j,0,T,pts[0][1],pts[1][1]))]\n",
        "        if u < len(o[0]) and u >= 0 and v < len(o) and v >= 0: o[v][u] = \"§f█\"\n",
        "      T = ceil(sqrt(abs(pts[0][0]-pts[2][0])**2+abs(pts[0][1]-pts[2][1])**2))\n",
        "      for j in range(T+1):\n",
        "        u,v = [round(inpol(j,0,T,pts[0][0],pts[2][0])),round(inpol(j,0,T,pts[0][1],pts[2][1]))]\n",
        "        if u < len(o[0]) and u >= 0 and v < len(o) and v >= 0: o[v][u] = \"§f█\"\n",
        "      T = ceil(sqrt(abs(pts[1][0]-pts[2][0])**2+abs(pts[1][1]-pts[2][1])**2))\n",
        "      for j in range(T+1):\n",
        "        u,v = [round(inpol(j,0,T,pts[1][0],pts[2][0])),round(inpol(j,0,T,pts[1][1],pts[2][1]))]\n",
        "        if u < len(o[0]) and u >= 0 and v < len(o) and v >= 0: o[v][u] = \"§f█\"\n",
        "  for i in o:\n",
        "    m=\"\"\n",
        "    for j in i: m+=j\n",
        "    mc.postToChat(m)\n",
        "  mc.postToChat(f\"rot{rot} pit{pit}\")"
      ],
      "metadata": {
        "id": "yjVFRSYV9TXT"
      },
      "execution_count": null,
      "outputs": []
    },
    {
      "cell_type": "code",
      "source": [
        "chr(ord(\"a\"))"
      ],
      "metadata": {
        "id": "2Gv9Yhw_Ug_d"
      },
      "execution_count": null,
      "outputs": []
    },
    {
      "cell_type": "code",
      "source": [
        "o = \"\"\n",
        "for i in range(127):\n",
        "  o += chr(i)\n",
        "print(o)"
      ],
      "metadata": {
        "colab": {
          "base_uri": "https://localhost:8080/"
        },
        "id": "7V8GxQerSUn-",
        "outputId": "6bcb46a5-15b7-48cd-c68f-59a7f9447d4e"
      },
      "execution_count": null,
      "outputs": [
        {
          "output_type": "stream",
          "name": "stdout",
          "text": [
            "\u0000\u0001\u0002\u0003\u0004\u0005\u0006\u0007\b\t\n",
            "\u000b\f\r\u000e\u000f\u0010\u0011\u0012\u0013\u0014\u0015\u0016\u0017\u0018\u0019\u001a\u001b\u001c\u001d\u001e\u001f !\"#$%&'()*+,-./0123456789:;<=>?@ABCDEFGHIJKLMNOPQRSTUVWXYZ[\\]^_`abcdefghijklmnopqrstuvwxyz{|}~\n"
          ]
        }
      ]
    },
    {
      "cell_type": "code",
      "execution_count": null,
      "metadata": {
        "id": "zwCOaLCvfeZ1"
      },
      "outputs": [],
      "source": [
        "n=open(\"NOISES.✲\").read()\n",
        "exec(\"nn=\"+n)\n",
        "n1 = nn[0]\n",
        "n2 = nn[1]\n",
        "n3 = nn[2]\n",
        "n4 = nn[3]\n",
        "exec(\"n1=\"+n1)\n",
        "exec(\"n2=\"+n2)\n",
        "exec(\"n3=\"+n3)\n",
        "exec(\"n4=\"+n4)\n",
        "nn,n=[\"\",\"\"]"
      ]
    },
    {
      "cell_type": "code",
      "execution_count": null,
      "metadata": {
        "id": "ew51H9ImkxWL",
        "collapsed": true
      },
      "outputs": [],
      "source": [
        "myID = mc.getPlayerEntityId(\"Keks_Creeper\")\n",
        "x,y,z = mc.entity.getTilePos(myID)\n",
        "v = n1.get(\"noise\").split(n1.get(\"abc\")[0])\n",
        "s = n4.get(\"noise\").split(n4.get(\"abc\")[0])\n",
        "k = n1.get(\"abc\")\n",
        "for i in range(1,690):#len(v)):\n",
        "  for j in range(690):#len(v[i])):\n",
        "    mc.setBlock(x+i,y+k.find(v[i][j])*.2+k.find(s[i][j]),z+j,2)\n",
        "    mc.setBlocks(x+i,y,z+j,x+i,y+k.find(v[i][j])*.2+k.find(s[i][j])-3,z+j,1)\n",
        "    mc.setBlocks(x+i,y+k.find(v[i][j])*.2+k.find(s[i][j])-random.randint(2,4),z+j,x+i,y+k.find(v[i][j])*.2+k.find(s[i][j])-1,z+j,3)"
      ]
    },
    {
      "cell_type": "code",
      "execution_count": null,
      "metadata": {
        "colab": {
          "base_uri": "https://localhost:8080/",
          "height": 38
        },
        "id": "lzyD5mo2a6Eu",
        "outputId": "03d513d9-6d55-43ca-bd48-3adef353a431"
      },
      "outputs": [
        {
          "data": {
            "text/html": [
              "<input type=\"text\" value=\"Helelo World. Hope you have a good day\" id=\"clipborad-text\"> \n",
              "                <button onclick=\"copyToClipboard()\">Copy text</button>\n",
              "                <script>\n",
              "                function copyToClipboard() {\n",
              "                    var copyText = document.getElementById(\"clipborad-text\");\n",
              "                    copyText.select();\n",
              "                    navigator.clipboard.writeText(copyText.value);\n",
              "                }\n",
              "                </script>"
            ],
            "text/plain": [
              "<IPython.core.display.HTML object>"
            ]
          },
          "metadata": {},
          "output_type": "display_data"
        }
      ],
      "source": [
        "from IPython.display import HTML\n",
        "\n",
        "your_text = \"Helelo World. Hope you have a good day\"\n",
        "html_text = f'''<input type=\"text\" value=\"{your_text}\" id=\"clipborad-text\">\n",
        "                <button onclick=\"copyToClipboard()\">Copy text</button>\n",
        "                <script>\n",
        "                function copyToClipboard() {{\n",
        "                    var copyText = document.getElementById(\"clipborad-text\");\n",
        "                    copyText.select();\n",
        "                    navigator.clipboard.writeText(copyText.value);\n",
        "                }}\n",
        "                </script>'''\n",
        "display(HTML(html_text))"
      ]
    },
    {
      "cell_type": "code",
      "execution_count": null,
      "metadata": {
        "id": "srPi-8_LnTmb"
      },
      "outputs": [],
      "source": [
        "res = json.loads(requests.get(\"https://api.mcsrvstat.us/3/\"+server).text)"
      ]
    },
    {
      "cell_type": "code",
      "execution_count": null,
      "metadata": {
        "id": "Q4EzZwnCTPBo"
      },
      "outputs": [],
      "source": [
        "api = API()\n",
        "uuid = api.get_uuid(ich)\n",
        "profile = api.get_profile(uuid)\n",
        "cape = np.array(PIL.Image.open(urllib.request.urlopen(profile.cape_url)))\n",
        "image(cape,64,32,{},[\"█\",\"000000░︱\"])"
      ]
    },
    {
      "cell_type": "code",
      "execution_count": null,
      "metadata": {
        "id": "CvhGRfj-_LMh",
        "outputId": "fb1f50a1-f18a-4c8d-a357-b202ccdb3e05",
        "colab": {
          "base_uri": "https://localhost:8080/",
          "height": 211
        }
      },
      "outputs": [
        {
          "output_type": "error",
          "ename": "NameError",
          "evalue": "name 'mc' is not defined",
          "traceback": [
            "\u001b[0;31m---------------------------------------------------------------------------\u001b[0m",
            "\u001b[0;31mNameError\u001b[0m                                 Traceback (most recent call last)",
            "\u001b[0;32m<ipython-input-1-593b8800de79>\u001b[0m in \u001b[0;36m<cell line: 1>\u001b[0;34m()\u001b[0m\n\u001b[0;32m----> 1\u001b[0;31m \u001b[0mx\u001b[0m\u001b[0;34m,\u001b[0m\u001b[0my\u001b[0m\u001b[0;34m,\u001b[0m\u001b[0mz\u001b[0m \u001b[0;34m=\u001b[0m \u001b[0mmc\u001b[0m\u001b[0;34m.\u001b[0m\u001b[0mentity\u001b[0m\u001b[0;34m.\u001b[0m\u001b[0mgetPos\u001b[0m\u001b[0;34m(\u001b[0m\u001b[0mmyID\u001b[0m\u001b[0;34m)\u001b[0m\u001b[0;34m\u001b[0m\u001b[0;34m\u001b[0m\u001b[0m\n\u001b[0m\u001b[1;32m      2\u001b[0m \u001b[0mpl2\u001b[0m \u001b[0;34m=\u001b[0m \u001b[0;34m\"~~~\"\u001b[0m\u001b[0;34m\u001b[0m\u001b[0;34m\u001b[0m\u001b[0m\n\u001b[1;32m      3\u001b[0m \u001b[0mpl1\u001b[0m \u001b[0;34m=\u001b[0m \u001b[0mpl2\u001b[0m\u001b[0;34m.\u001b[0m\u001b[0msplit\u001b[0m\u001b[0;34m(\u001b[0m\u001b[0;34m\"~\"\u001b[0m\u001b[0;34m)\u001b[0m\u001b[0;34m\u001b[0m\u001b[0;34m\u001b[0m\u001b[0m\n\u001b[1;32m      4\u001b[0m \u001b[0mpl1\u001b[0m\u001b[0;34m[\u001b[0m\u001b[0;36m0\u001b[0m\u001b[0;34m]\u001b[0m \u001b[0;34m=\u001b[0m \u001b[0mstr\u001b[0m\u001b[0;34m(\u001b[0m\u001b[0mx\u001b[0m\u001b[0;34m)\u001b[0m \u001b[0;34m+\u001b[0m \u001b[0miff\u001b[0m\u001b[0;34m(\u001b[0m\u001b[0;34m\"+\"\u001b[0m \u001b[0;32min\u001b[0m \u001b[0mpl1\u001b[0m\u001b[0;34m[\u001b[0m\u001b[0;36m1\u001b[0m\u001b[0;34m]\u001b[0m\u001b[0;34m,\u001b[0m\u001b[0mpl1\u001b[0m\u001b[0;34m[\u001b[0m\u001b[0;36m1\u001b[0m\u001b[0;34m]\u001b[0m\u001b[0;34m,\u001b[0m\u001b[0miff\u001b[0m\u001b[0;34m(\u001b[0m\u001b[0mpl1\u001b[0m\u001b[0;34m[\u001b[0m\u001b[0;36m1\u001b[0m\u001b[0;34m]\u001b[0m \u001b[0;34m==\u001b[0m \u001b[0;34m\"\"\u001b[0m\u001b[0;34m,\u001b[0m\u001b[0;34m\"\"\u001b[0m\u001b[0;34m,\u001b[0m\u001b[0;34m\"+\"\u001b[0m\u001b[0;34m+\u001b[0m\u001b[0mpl1\u001b[0m\u001b[0;34m[\u001b[0m\u001b[0;36m1\u001b[0m\u001b[0;34m]\u001b[0m\u001b[0;34m)\u001b[0m\u001b[0;34m)\u001b[0m\u001b[0;34m\u001b[0m\u001b[0;34m\u001b[0m\u001b[0m\n\u001b[1;32m      5\u001b[0m \u001b[0mpl1\u001b[0m\u001b[0;34m[\u001b[0m\u001b[0;36m1\u001b[0m\u001b[0;34m]\u001b[0m \u001b[0;34m=\u001b[0m \u001b[0mstr\u001b[0m\u001b[0;34m(\u001b[0m\u001b[0my\u001b[0m\u001b[0;34m)\u001b[0m \u001b[0;34m+\u001b[0m \u001b[0miff\u001b[0m\u001b[0;34m(\u001b[0m\u001b[0;34m\"+\"\u001b[0m \u001b[0;32min\u001b[0m \u001b[0mpl1\u001b[0m\u001b[0;34m[\u001b[0m\u001b[0;36m2\u001b[0m\u001b[0;34m]\u001b[0m\u001b[0;34m,\u001b[0m\u001b[0mpl1\u001b[0m\u001b[0;34m[\u001b[0m\u001b[0;36m2\u001b[0m\u001b[0;34m]\u001b[0m\u001b[0;34m,\u001b[0m\u001b[0miff\u001b[0m\u001b[0;34m(\u001b[0m\u001b[0mpl1\u001b[0m\u001b[0;34m[\u001b[0m\u001b[0;36m2\u001b[0m\u001b[0;34m]\u001b[0m \u001b[0;34m==\u001b[0m \u001b[0;34m\"\"\u001b[0m\u001b[0;34m,\u001b[0m\u001b[0;34m\"\"\u001b[0m\u001b[0;34m,\u001b[0m\u001b[0;34m\"+\"\u001b[0m\u001b[0;34m+\u001b[0m\u001b[0mpl1\u001b[0m\u001b[0;34m[\u001b[0m\u001b[0;36m2\u001b[0m\u001b[0;34m]\u001b[0m\u001b[0;34m)\u001b[0m\u001b[0;34m)\u001b[0m\u001b[0;34m\u001b[0m\u001b[0;34m\u001b[0m\u001b[0m\n",
            "\u001b[0;31mNameError\u001b[0m: name 'mc' is not defined"
          ]
        }
      ],
      "source": [
        "            x,y,z = mc.entity.getPos(myID)\n",
        "            pl2 = \"~~~\"\n",
        "            pl1 = pl2.split(\"~\")\n",
        "            pl1[0] = str(x) + iff(\"+\" in pl1[1],pl1[1],iff(pl1[1] == \"\",\"\",\"+\"+pl1[1]))\n",
        "            pl1[1] = str(y) + iff(\"+\" in pl1[2],pl1[2],iff(pl1[2] == \"\",\"\",\"+\"+pl1[2]))\n",
        "            pl1[2] = str(z) + iff(\"+\" in pl1[3],pl1[3],iff(pl1[3] == \"\",\"\",\"+\"+pl1[3]))\n",
        "            pl1 = pl1[:3]\n",
        "            pl1"
      ]
    },
    {
      "cell_type": "code",
      "execution_count": null,
      "metadata": {
        "id": "y_hu7nc4ctD0"
      },
      "outputs": [],
      "source": [
        "def tkvl(h):\n",
        "  if h == 1: return str(spieler.keys()).replace(\"dict_keys([\",\"\").replace(\"])\",\"\").replace(\"'\",\"\").split(\", \")\n",
        "  else: return str(spieler.keys()).replace(\"dict_keys([\",\"\").replace(\"])\",\"\").replace(\"'\",\"\")"
      ]
    },
    {
      "cell_type": "code",
      "execution_count": null,
      "metadata": {
        "colab": {
          "base_uri": "https://localhost:8080/"
        },
        "id": "HQs81MVHbu1e",
        "outputId": "f219db30-a241-4649-a061-319d2834c3df"
      },
      "outputs": [
        {
          "data": {
            "text/plain": [
              "['Keks_Creeper',\n",
              " 'UnicDad001',\n",
              " 'codary1',\n",
              " 'UnicDad001',\n",
              " 'Keks_Creeper',\n",
              " 'UnicDad001']"
            ]
          },
          "execution_count": 147,
          "metadata": {},
          "output_type": "execute_result"
        }
      ],
      "source": [
        "        chat[1] = \"[@a,@r,@s,UnicDad001]\"\n",
        "        pl1 = chat[1].replace(\"@a\",str(tkvl(0))).replace(\"@s\",ich).replace(\"@r\",tkvl(1)[r.randint(0,len(tkvl(1))-1)]).replace(\"[\",\"\").replace(\"]\",\"\").replace(\" \",\"\").split(\",\")\n",
        "        pl1"
      ]
    },
    {
      "cell_type": "code",
      "execution_count": null,
      "metadata": {
        "colab": {
          "base_uri": "https://localhost:8080/"
        },
        "id": "f62cln2HsMpq",
        "outputId": "95ccf6df-5fb6-4461-fb9e-c0e556add465"
      },
      "outputs": [
        {
          "data": {
            "text/plain": [
              "('234', ['2', '3', '4'])"
            ]
          },
          "execution_count": 193,
          "metadata": {},
          "output_type": "execute_result"
        }
      ],
      "source": [
        "pos = {\"2\":\"hi\",\"3\":\"ee\",\"4\":\"ee\"}\n",
        "p = str(pos.keys()).replace(\"dict_keys([\",\"\").replace(\"])\",\"\").replace(\"'\",\"\").replace(\", \",\"\")\n",
        "q = str(pos.keys()).replace(\"dict_keys([\",\"\").replace(\"])\",\"\").replace(\"'\",\"\").split(\", \")\n",
        "p,q"
      ]
    },
    {
      "cell_type": "code",
      "execution_count": null,
      "metadata": {
        "colab": {
          "base_uri": "https://localhost:8080/",
          "height": 118,
          "referenced_widgets": [
            "fe11af8decf042e482ea9c5649eeadb3",
            "224bffd396634dd6a0240f943a92bd27",
            "ca67247dca2647e7959cae0f514d4541"
          ]
        },
        "id": "77ZyU6SVV9kI",
        "outputId": "5d34dd91-07b7-4b60-88fc-dd810f3f0c5f"
      },
      "outputs": [
        {
          "output_type": "display_data",
          "data": {
            "text/plain": [
              "Button(description='Widget', style=ButtonStyle())"
            ],
            "application/vnd.jupyter.widget-view+json": {
              "version_major": 2,
              "version_minor": 0,
              "model_id": "fe11af8decf042e482ea9c5649eeadb3"
            }
          },
          "metadata": {}
        },
        {
          "output_type": "stream",
          "name": "stdout",
          "text": [
            "lol\n",
            "lol\n",
            "lol\n",
            "lol\n"
          ]
        }
      ],
      "source": [
        "btn = widgets.Button(description='Widget')\n",
        "def button_eventhandler(obj):\n",
        "    print(\"lol\")\n",
        "btn.on_click(button_eventhandler)\n",
        "display(btn)"
      ]
    },
    {
      "cell_type": "code",
      "source": [
        "from IPython.display import clear_output\n",
        "from ipywidgets import widgets"
      ],
      "metadata": {
        "id": "rK7OBgiKRzma"
      },
      "execution_count": null,
      "outputs": []
    },
    {
      "cell_type": "code",
      "execution_count": null,
      "metadata": {
        "colab": {
          "base_uri": "https://localhost:8080/",
          "height": 67,
          "referenced_widgets": [
            "035cb87ab75f42f48c933d569a7af34f",
            "5073735c033f42f1b33172eaeff00652",
            "d2aa6bfed99644ae901ac576b1fd5316",
            "b93da958c48a4bd49624f566d98e39c7",
            "1ab5ac224b1547609f4c38e76cfb3db8"
          ]
        },
        "id": "pxdBXHDgW0bm",
        "outputId": "f95d3aac-14fb-4b1d-a1fa-6485984ec996"
      },
      "outputs": [
        {
          "output_type": "display_data",
          "data": {
            "text/plain": [
              "Text(value='', description='Text - ')"
            ],
            "application/vnd.jupyter.widget-view+json": {
              "version_major": 2,
              "version_minor": 0,
              "model_id": "035cb87ab75f42f48c933d569a7af34f"
            }
          },
          "metadata": {}
        },
        {
          "output_type": "display_data",
          "data": {
            "text/plain": [
              "Output()"
            ],
            "application/vnd.jupyter.widget-view+json": {
              "version_major": 2,
              "version_minor": 0,
              "model_id": "b93da958c48a4bd49624f566d98e39c7"
            }
          },
          "metadata": {}
        }
      ],
      "source": [
        "text = widgets.Text(description=\"Text - \")\n",
        "out = widgets.Output()\n",
        "def select(change):\n",
        "    out.clear_output()\n",
        "    with out:\n",
        "      display(\"Entered value - \"+change.new)\n",
        "text.observe(select, names=\"value\")\n",
        "display(text)\n",
        "display(out)"
      ]
    },
    {
      "cell_type": "code",
      "source": [
        "text = widgets.Text(description=\"Text - \")\n",
        "out = widgets.Output()\n",
        "def select(change):\n",
        "    out.clear_output()\n",
        "    with out: display(\"Entered value - \"+change.new)\n",
        "    text = text.replace(\"sss\",\"zzz\")\n",
        "text.observe(select, names=\"value\")\n",
        "display(text)\n",
        "display(out)"
      ],
      "metadata": {
        "id": "QpPRovA4TSYr"
      },
      "execution_count": null,
      "outputs": []
    },
    {
      "cell_type": "code",
      "source": [
        "__,(*_,),___=[\"\\\\/-\",str([][:3])+'''_''',0==0**0]\n",
        "print((\"in\"in _)*_,_+[],\"*\"*___+\"_\"+__+__,___**0)"
      ],
      "metadata": {
        "id": "YQ6LMnQpCAB8",
        "colab": {
          "base_uri": "https://localhost:8080/"
        },
        "outputId": "275d3225-f108-4c58-f055-62e96494111e"
      },
      "execution_count": null,
      "outputs": [
        {
          "output_type": "stream",
          "name": "stdout",
          "text": [
            "[] ['[', ']', '_'] _\\/-\\/- 1\n"
          ]
        }
      ]
    },
    {
      "cell_type": "code",
      "source": [
        "lol = [[\"1\",\"1\",\"2\",\"2\"],[\"1\",\"1\",\"2\",\"3\"],[\"1\",\"1\",\"4\",\"3\"],[\"4\",\"4\",\"4\",\"4\"]]\n",
        "x,y = [0,0]\n",
        "sx,sy,n,o = [0,0,\"\",1]\n",
        "while (not \"x\"in n) or (not \"y\"in n):\n",
        "  for nx in range(sx):\n",
        "    for ny in range(sy):\n",
        "      if lol[x+nx][y+ny] != lol[x][y]: n += \"x\"\n",
        "      if lol[x+nx][y+sy] != lol[x][y]: n += \"y\"\n",
        "  if o%2==0: sx+=1\n",
        "  else: sy+=1\n",
        "  o+=1\n",
        "print(x,y,sx,sy,n)"
      ],
      "metadata": {
        "id": "KdCVVR9YT8OK",
        "colab": {
          "base_uri": "https://localhost:8080/"
        },
        "outputId": "30e6d653-b119-42af-d189-66a0385f8b6e"
      },
      "execution_count": null,
      "outputs": [
        {
          "output_type": "stream",
          "name": "stdout",
          "text": [
            "0 0 2 3 yx\n"
          ]
        }
      ]
    }
  ],
  "metadata": {
    "colab": {
      "provenance": [],
      "mount_file_id": "1FJEDkbC83D2Vn6H4gnpvB1wV_XI03Hhh",
      "authorship_tag": "ABX9TyO1ygPHkj1yI4iUMUQPtkdr",
      "include_colab_link": true
    },
    "kernelspec": {
      "display_name": "Python 3",
      "name": "python3"
    },
    "language_info": {
      "name": "python"
    },
    "widgets": {
      "application/vnd.jupyter.widget-state+json": {
        "fe11af8decf042e482ea9c5649eeadb3": {
          "model_module": "@jupyter-widgets/controls",
          "model_name": "ButtonModel",
          "model_module_version": "1.5.0",
          "state": {
            "_dom_classes": [],
            "_model_module": "@jupyter-widgets/controls",
            "_model_module_version": "1.5.0",
            "_model_name": "ButtonModel",
            "_view_count": null,
            "_view_module": "@jupyter-widgets/controls",
            "_view_module_version": "1.5.0",
            "_view_name": "ButtonView",
            "button_style": "",
            "description": "Widget",
            "disabled": false,
            "icon": "",
            "layout": "IPY_MODEL_224bffd396634dd6a0240f943a92bd27",
            "style": "IPY_MODEL_ca67247dca2647e7959cae0f514d4541",
            "tooltip": ""
          }
        },
        "224bffd396634dd6a0240f943a92bd27": {
          "model_module": "@jupyter-widgets/base",
          "model_name": "LayoutModel",
          "model_module_version": "1.2.0",
          "state": {
            "_model_module": "@jupyter-widgets/base",
            "_model_module_version": "1.2.0",
            "_model_name": "LayoutModel",
            "_view_count": null,
            "_view_module": "@jupyter-widgets/base",
            "_view_module_version": "1.2.0",
            "_view_name": "LayoutView",
            "align_content": null,
            "align_items": null,
            "align_self": null,
            "border": null,
            "bottom": null,
            "display": null,
            "flex": null,
            "flex_flow": null,
            "grid_area": null,
            "grid_auto_columns": null,
            "grid_auto_flow": null,
            "grid_auto_rows": null,
            "grid_column": null,
            "grid_gap": null,
            "grid_row": null,
            "grid_template_areas": null,
            "grid_template_columns": null,
            "grid_template_rows": null,
            "height": null,
            "justify_content": null,
            "justify_items": null,
            "left": null,
            "margin": null,
            "max_height": null,
            "max_width": null,
            "min_height": null,
            "min_width": null,
            "object_fit": null,
            "object_position": null,
            "order": null,
            "overflow": null,
            "overflow_x": null,
            "overflow_y": null,
            "padding": null,
            "right": null,
            "top": null,
            "visibility": null,
            "width": null
          }
        },
        "ca67247dca2647e7959cae0f514d4541": {
          "model_module": "@jupyter-widgets/controls",
          "model_name": "ButtonStyleModel",
          "model_module_version": "1.5.0",
          "state": {
            "_model_module": "@jupyter-widgets/controls",
            "_model_module_version": "1.5.0",
            "_model_name": "ButtonStyleModel",
            "_view_count": null,
            "_view_module": "@jupyter-widgets/base",
            "_view_module_version": "1.2.0",
            "_view_name": "StyleView",
            "button_color": null,
            "font_weight": ""
          }
        },
        "035cb87ab75f42f48c933d569a7af34f": {
          "model_module": "@jupyter-widgets/controls",
          "model_name": "TextModel",
          "model_module_version": "1.5.0",
          "state": {
            "_dom_classes": [],
            "_model_module": "@jupyter-widgets/controls",
            "_model_module_version": "1.5.0",
            "_model_name": "TextModel",
            "_view_count": null,
            "_view_module": "@jupyter-widgets/controls",
            "_view_module_version": "1.5.0",
            "_view_name": "TextView",
            "continuous_update": true,
            "description": "Text - ",
            "description_tooltip": null,
            "disabled": false,
            "layout": "IPY_MODEL_5073735c033f42f1b33172eaeff00652",
            "placeholder": "​",
            "style": "IPY_MODEL_d2aa6bfed99644ae901ac576b1fd5316",
            "value": "errrrrrrr"
          }
        },
        "5073735c033f42f1b33172eaeff00652": {
          "model_module": "@jupyter-widgets/base",
          "model_name": "LayoutModel",
          "model_module_version": "1.2.0",
          "state": {
            "_model_module": "@jupyter-widgets/base",
            "_model_module_version": "1.2.0",
            "_model_name": "LayoutModel",
            "_view_count": null,
            "_view_module": "@jupyter-widgets/base",
            "_view_module_version": "1.2.0",
            "_view_name": "LayoutView",
            "align_content": null,
            "align_items": null,
            "align_self": null,
            "border": null,
            "bottom": null,
            "display": null,
            "flex": null,
            "flex_flow": null,
            "grid_area": null,
            "grid_auto_columns": null,
            "grid_auto_flow": null,
            "grid_auto_rows": null,
            "grid_column": null,
            "grid_gap": null,
            "grid_row": null,
            "grid_template_areas": null,
            "grid_template_columns": null,
            "grid_template_rows": null,
            "height": null,
            "justify_content": null,
            "justify_items": null,
            "left": null,
            "margin": null,
            "max_height": null,
            "max_width": null,
            "min_height": null,
            "min_width": null,
            "object_fit": null,
            "object_position": null,
            "order": null,
            "overflow": null,
            "overflow_x": null,
            "overflow_y": null,
            "padding": null,
            "right": null,
            "top": null,
            "visibility": null,
            "width": null
          }
        },
        "d2aa6bfed99644ae901ac576b1fd5316": {
          "model_module": "@jupyter-widgets/controls",
          "model_name": "DescriptionStyleModel",
          "model_module_version": "1.5.0",
          "state": {
            "_model_module": "@jupyter-widgets/controls",
            "_model_module_version": "1.5.0",
            "_model_name": "DescriptionStyleModel",
            "_view_count": null,
            "_view_module": "@jupyter-widgets/base",
            "_view_module_version": "1.2.0",
            "_view_name": "StyleView",
            "description_width": ""
          }
        },
        "b93da958c48a4bd49624f566d98e39c7": {
          "model_module": "@jupyter-widgets/output",
          "model_name": "OutputModel",
          "model_module_version": "1.0.0",
          "state": {
            "_dom_classes": [],
            "_model_module": "@jupyter-widgets/output",
            "_model_module_version": "1.0.0",
            "_model_name": "OutputModel",
            "_view_count": null,
            "_view_module": "@jupyter-widgets/output",
            "_view_module_version": "1.0.0",
            "_view_name": "OutputView",
            "layout": "IPY_MODEL_1ab5ac224b1547609f4c38e76cfb3db8",
            "msg_id": "",
            "outputs": [
              {
                "output_type": "display_data",
                "data": {
                  "text/plain": "'Entered value - errrrrrrr'",
                  "application/vnd.google.colaboratory.intrinsic+json": {
                    "type": "string"
                  }
                },
                "metadata": {}
              }
            ]
          }
        },
        "1ab5ac224b1547609f4c38e76cfb3db8": {
          "model_module": "@jupyter-widgets/base",
          "model_name": "LayoutModel",
          "model_module_version": "1.2.0",
          "state": {
            "_model_module": "@jupyter-widgets/base",
            "_model_module_version": "1.2.0",
            "_model_name": "LayoutModel",
            "_view_count": null,
            "_view_module": "@jupyter-widgets/base",
            "_view_module_version": "1.2.0",
            "_view_name": "LayoutView",
            "align_content": null,
            "align_items": null,
            "align_self": null,
            "border": null,
            "bottom": null,
            "display": null,
            "flex": null,
            "flex_flow": null,
            "grid_area": null,
            "grid_auto_columns": null,
            "grid_auto_flow": null,
            "grid_auto_rows": null,
            "grid_column": null,
            "grid_gap": null,
            "grid_row": null,
            "grid_template_areas": null,
            "grid_template_columns": null,
            "grid_template_rows": null,
            "height": null,
            "justify_content": null,
            "justify_items": null,
            "left": null,
            "margin": null,
            "max_height": null,
            "max_width": null,
            "min_height": null,
            "min_width": null,
            "object_fit": null,
            "object_position": null,
            "order": null,
            "overflow": null,
            "overflow_x": null,
            "overflow_y": null,
            "padding": null,
            "right": null,
            "top": null,
            "visibility": null,
            "width": null
          }
        }
      }
    }
  },
  "nbformat": 4,
  "nbformat_minor": 0
}